{
  "nbformat": 4,
  "nbformat_minor": 0,
  "metadata": {
    "colab": {
      "name": "Course 3 - Week 3 - Lesson 2 - Comparing LSTM - GRU & Conv1D.ipynb",
      "provenance": [],
      "collapsed_sections": [],
      "include_colab_link": true
    },
    "kernelspec": {
      "display_name": "Python 3",
      "name": "python3"
    },
    "accelerator": "GPU",
    "widgets": {
      "application/vnd.jupyter.widget-state+json": {
        "3d4702a53bd644fdbfe3a9e37b4382d2": {
          "model_module": "@jupyter-widgets/controls",
          "model_name": "HBoxModel",
          "state": {
            "_view_name": "HBoxView",
            "_dom_classes": [],
            "_model_name": "HBoxModel",
            "_view_module": "@jupyter-widgets/controls",
            "_model_module_version": "1.5.0",
            "_view_count": null,
            "_view_module_version": "1.5.0",
            "box_style": "",
            "layout": "IPY_MODEL_a815780c760a4a0f8f455faf0a12300f",
            "_model_module": "@jupyter-widgets/controls",
            "children": [
              "IPY_MODEL_d99bc644365f40489a69c00893d5845a",
              "IPY_MODEL_cc9ea0ac004e42e7b11e84f91a8bd0f6"
            ]
          }
        },
        "a815780c760a4a0f8f455faf0a12300f": {
          "model_module": "@jupyter-widgets/base",
          "model_name": "LayoutModel",
          "state": {
            "_view_name": "LayoutView",
            "grid_template_rows": null,
            "right": null,
            "justify_content": null,
            "_view_module": "@jupyter-widgets/base",
            "overflow": null,
            "_model_module_version": "1.2.0",
            "_view_count": null,
            "flex_flow": null,
            "width": null,
            "min_width": null,
            "border": null,
            "align_items": null,
            "bottom": null,
            "_model_module": "@jupyter-widgets/base",
            "top": null,
            "grid_column": null,
            "overflow_y": null,
            "overflow_x": null,
            "grid_auto_flow": null,
            "grid_area": null,
            "grid_template_columns": null,
            "flex": null,
            "_model_name": "LayoutModel",
            "justify_items": null,
            "grid_row": null,
            "max_height": null,
            "align_content": null,
            "visibility": null,
            "align_self": null,
            "height": null,
            "min_height": null,
            "padding": null,
            "grid_auto_rows": null,
            "grid_gap": null,
            "max_width": null,
            "order": null,
            "_view_module_version": "1.2.0",
            "grid_template_areas": null,
            "object_position": null,
            "object_fit": null,
            "grid_auto_columns": null,
            "margin": null,
            "display": null,
            "left": null
          }
        },
        "d99bc644365f40489a69c00893d5845a": {
          "model_module": "@jupyter-widgets/controls",
          "model_name": "FloatProgressModel",
          "state": {
            "_view_name": "ProgressView",
            "style": "IPY_MODEL_aab994119e4a4c8ea62e20d5326186ff",
            "_dom_classes": [],
            "description": "Dl Completed...: 100%",
            "_model_name": "FloatProgressModel",
            "bar_style": "success",
            "max": 1,
            "_view_module": "@jupyter-widgets/controls",
            "_model_module_version": "1.5.0",
            "value": 1,
            "_view_count": null,
            "_view_module_version": "1.5.0",
            "orientation": "horizontal",
            "min": 0,
            "description_tooltip": null,
            "_model_module": "@jupyter-widgets/controls",
            "layout": "IPY_MODEL_11aa0a0ec14047fa9e00f7856d000d99"
          }
        },
        "cc9ea0ac004e42e7b11e84f91a8bd0f6": {
          "model_module": "@jupyter-widgets/controls",
          "model_name": "HTMLModel",
          "state": {
            "_view_name": "HTMLView",
            "style": "IPY_MODEL_45cd04a4b91d4f8ca291e068f4f621ff",
            "_dom_classes": [],
            "description": "",
            "_model_name": "HTMLModel",
            "placeholder": "​",
            "_view_module": "@jupyter-widgets/controls",
            "_model_module_version": "1.5.0",
            "value": " 1/1 [00:08&lt;00:00,  8.64s/ url]",
            "_view_count": null,
            "_view_module_version": "1.5.0",
            "description_tooltip": null,
            "_model_module": "@jupyter-widgets/controls",
            "layout": "IPY_MODEL_d0802102231b4f338d9e5e2170a8fda1"
          }
        },
        "aab994119e4a4c8ea62e20d5326186ff": {
          "model_module": "@jupyter-widgets/controls",
          "model_name": "ProgressStyleModel",
          "state": {
            "_view_name": "StyleView",
            "_model_name": "ProgressStyleModel",
            "description_width": "initial",
            "_view_module": "@jupyter-widgets/base",
            "_model_module_version": "1.5.0",
            "_view_count": null,
            "_view_module_version": "1.2.0",
            "bar_color": null,
            "_model_module": "@jupyter-widgets/controls"
          }
        },
        "11aa0a0ec14047fa9e00f7856d000d99": {
          "model_module": "@jupyter-widgets/base",
          "model_name": "LayoutModel",
          "state": {
            "_view_name": "LayoutView",
            "grid_template_rows": null,
            "right": null,
            "justify_content": null,
            "_view_module": "@jupyter-widgets/base",
            "overflow": null,
            "_model_module_version": "1.2.0",
            "_view_count": null,
            "flex_flow": null,
            "width": null,
            "min_width": null,
            "border": null,
            "align_items": null,
            "bottom": null,
            "_model_module": "@jupyter-widgets/base",
            "top": null,
            "grid_column": null,
            "overflow_y": null,
            "overflow_x": null,
            "grid_auto_flow": null,
            "grid_area": null,
            "grid_template_columns": null,
            "flex": null,
            "_model_name": "LayoutModel",
            "justify_items": null,
            "grid_row": null,
            "max_height": null,
            "align_content": null,
            "visibility": null,
            "align_self": null,
            "height": null,
            "min_height": null,
            "padding": null,
            "grid_auto_rows": null,
            "grid_gap": null,
            "max_width": null,
            "order": null,
            "_view_module_version": "1.2.0",
            "grid_template_areas": null,
            "object_position": null,
            "object_fit": null,
            "grid_auto_columns": null,
            "margin": null,
            "display": null,
            "left": null
          }
        },
        "45cd04a4b91d4f8ca291e068f4f621ff": {
          "model_module": "@jupyter-widgets/controls",
          "model_name": "DescriptionStyleModel",
          "state": {
            "_view_name": "StyleView",
            "_model_name": "DescriptionStyleModel",
            "description_width": "",
            "_view_module": "@jupyter-widgets/base",
            "_model_module_version": "1.5.0",
            "_view_count": null,
            "_view_module_version": "1.2.0",
            "_model_module": "@jupyter-widgets/controls"
          }
        },
        "d0802102231b4f338d9e5e2170a8fda1": {
          "model_module": "@jupyter-widgets/base",
          "model_name": "LayoutModel",
          "state": {
            "_view_name": "LayoutView",
            "grid_template_rows": null,
            "right": null,
            "justify_content": null,
            "_view_module": "@jupyter-widgets/base",
            "overflow": null,
            "_model_module_version": "1.2.0",
            "_view_count": null,
            "flex_flow": null,
            "width": null,
            "min_width": null,
            "border": null,
            "align_items": null,
            "bottom": null,
            "_model_module": "@jupyter-widgets/base",
            "top": null,
            "grid_column": null,
            "overflow_y": null,
            "overflow_x": null,
            "grid_auto_flow": null,
            "grid_area": null,
            "grid_template_columns": null,
            "flex": null,
            "_model_name": "LayoutModel",
            "justify_items": null,
            "grid_row": null,
            "max_height": null,
            "align_content": null,
            "visibility": null,
            "align_self": null,
            "height": null,
            "min_height": null,
            "padding": null,
            "grid_auto_rows": null,
            "grid_gap": null,
            "max_width": null,
            "order": null,
            "_view_module_version": "1.2.0",
            "grid_template_areas": null,
            "object_position": null,
            "object_fit": null,
            "grid_auto_columns": null,
            "margin": null,
            "display": null,
            "left": null
          }
        },
        "d069e0b8d83448bebff4192e24e1006f": {
          "model_module": "@jupyter-widgets/controls",
          "model_name": "HBoxModel",
          "state": {
            "_view_name": "HBoxView",
            "_dom_classes": [],
            "_model_name": "HBoxModel",
            "_view_module": "@jupyter-widgets/controls",
            "_model_module_version": "1.5.0",
            "_view_count": null,
            "_view_module_version": "1.5.0",
            "box_style": "",
            "layout": "IPY_MODEL_9abfb6fa6e87440381d25d2cbc4abbb2",
            "_model_module": "@jupyter-widgets/controls",
            "children": [
              "IPY_MODEL_a781ac13f3f84bf78b1f68721fc0d990",
              "IPY_MODEL_9a121b1a57e342c395611fd09c935b87"
            ]
          }
        },
        "9abfb6fa6e87440381d25d2cbc4abbb2": {
          "model_module": "@jupyter-widgets/base",
          "model_name": "LayoutModel",
          "state": {
            "_view_name": "LayoutView",
            "grid_template_rows": null,
            "right": null,
            "justify_content": null,
            "_view_module": "@jupyter-widgets/base",
            "overflow": null,
            "_model_module_version": "1.2.0",
            "_view_count": null,
            "flex_flow": null,
            "width": null,
            "min_width": null,
            "border": null,
            "align_items": null,
            "bottom": null,
            "_model_module": "@jupyter-widgets/base",
            "top": null,
            "grid_column": null,
            "overflow_y": null,
            "overflow_x": null,
            "grid_auto_flow": null,
            "grid_area": null,
            "grid_template_columns": null,
            "flex": null,
            "_model_name": "LayoutModel",
            "justify_items": null,
            "grid_row": null,
            "max_height": null,
            "align_content": null,
            "visibility": null,
            "align_self": null,
            "height": null,
            "min_height": null,
            "padding": null,
            "grid_auto_rows": null,
            "grid_gap": null,
            "max_width": null,
            "order": null,
            "_view_module_version": "1.2.0",
            "grid_template_areas": null,
            "object_position": null,
            "object_fit": null,
            "grid_auto_columns": null,
            "margin": null,
            "display": null,
            "left": null
          }
        },
        "a781ac13f3f84bf78b1f68721fc0d990": {
          "model_module": "@jupyter-widgets/controls",
          "model_name": "FloatProgressModel",
          "state": {
            "_view_name": "ProgressView",
            "style": "IPY_MODEL_259b34eadc71445d95eb9d11b6301038",
            "_dom_classes": [],
            "description": "Dl Size...: 100%",
            "_model_name": "FloatProgressModel",
            "bar_style": "success",
            "max": 1,
            "_view_module": "@jupyter-widgets/controls",
            "_model_module_version": "1.5.0",
            "value": 1,
            "_view_count": null,
            "_view_module_version": "1.5.0",
            "orientation": "horizontal",
            "min": 0,
            "description_tooltip": null,
            "_model_module": "@jupyter-widgets/controls",
            "layout": "IPY_MODEL_1a0b8876ab314e6d94ab6b1592822e56"
          }
        },
        "9a121b1a57e342c395611fd09c935b87": {
          "model_module": "@jupyter-widgets/controls",
          "model_name": "HTMLModel",
          "state": {
            "_view_name": "HTMLView",
            "style": "IPY_MODEL_24914dd175c74d8c9c2a69f039a50d4b",
            "_dom_classes": [],
            "description": "",
            "_model_name": "HTMLModel",
            "placeholder": "​",
            "_view_module": "@jupyter-widgets/controls",
            "_model_module_version": "1.5.0",
            "value": " 80/80 [00:08&lt;00:00,  9.29 MiB/s]",
            "_view_count": null,
            "_view_module_version": "1.5.0",
            "description_tooltip": null,
            "_model_module": "@jupyter-widgets/controls",
            "layout": "IPY_MODEL_be665e861d854ec394ec905b44bb784c"
          }
        },
        "259b34eadc71445d95eb9d11b6301038": {
          "model_module": "@jupyter-widgets/controls",
          "model_name": "ProgressStyleModel",
          "state": {
            "_view_name": "StyleView",
            "_model_name": "ProgressStyleModel",
            "description_width": "initial",
            "_view_module": "@jupyter-widgets/base",
            "_model_module_version": "1.5.0",
            "_view_count": null,
            "_view_module_version": "1.2.0",
            "bar_color": null,
            "_model_module": "@jupyter-widgets/controls"
          }
        },
        "1a0b8876ab314e6d94ab6b1592822e56": {
          "model_module": "@jupyter-widgets/base",
          "model_name": "LayoutModel",
          "state": {
            "_view_name": "LayoutView",
            "grid_template_rows": null,
            "right": null,
            "justify_content": null,
            "_view_module": "@jupyter-widgets/base",
            "overflow": null,
            "_model_module_version": "1.2.0",
            "_view_count": null,
            "flex_flow": null,
            "width": null,
            "min_width": null,
            "border": null,
            "align_items": null,
            "bottom": null,
            "_model_module": "@jupyter-widgets/base",
            "top": null,
            "grid_column": null,
            "overflow_y": null,
            "overflow_x": null,
            "grid_auto_flow": null,
            "grid_area": null,
            "grid_template_columns": null,
            "flex": null,
            "_model_name": "LayoutModel",
            "justify_items": null,
            "grid_row": null,
            "max_height": null,
            "align_content": null,
            "visibility": null,
            "align_self": null,
            "height": null,
            "min_height": null,
            "padding": null,
            "grid_auto_rows": null,
            "grid_gap": null,
            "max_width": null,
            "order": null,
            "_view_module_version": "1.2.0",
            "grid_template_areas": null,
            "object_position": null,
            "object_fit": null,
            "grid_auto_columns": null,
            "margin": null,
            "display": null,
            "left": null
          }
        },
        "24914dd175c74d8c9c2a69f039a50d4b": {
          "model_module": "@jupyter-widgets/controls",
          "model_name": "DescriptionStyleModel",
          "state": {
            "_view_name": "StyleView",
            "_model_name": "DescriptionStyleModel",
            "description_width": "",
            "_view_module": "@jupyter-widgets/base",
            "_model_module_version": "1.5.0",
            "_view_count": null,
            "_view_module_version": "1.2.0",
            "_model_module": "@jupyter-widgets/controls"
          }
        },
        "be665e861d854ec394ec905b44bb784c": {
          "model_module": "@jupyter-widgets/base",
          "model_name": "LayoutModel",
          "state": {
            "_view_name": "LayoutView",
            "grid_template_rows": null,
            "right": null,
            "justify_content": null,
            "_view_module": "@jupyter-widgets/base",
            "overflow": null,
            "_model_module_version": "1.2.0",
            "_view_count": null,
            "flex_flow": null,
            "width": null,
            "min_width": null,
            "border": null,
            "align_items": null,
            "bottom": null,
            "_model_module": "@jupyter-widgets/base",
            "top": null,
            "grid_column": null,
            "overflow_y": null,
            "overflow_x": null,
            "grid_auto_flow": null,
            "grid_area": null,
            "grid_template_columns": null,
            "flex": null,
            "_model_name": "LayoutModel",
            "justify_items": null,
            "grid_row": null,
            "max_height": null,
            "align_content": null,
            "visibility": null,
            "align_self": null,
            "height": null,
            "min_height": null,
            "padding": null,
            "grid_auto_rows": null,
            "grid_gap": null,
            "max_width": null,
            "order": null,
            "_view_module_version": "1.2.0",
            "grid_template_areas": null,
            "object_position": null,
            "object_fit": null,
            "grid_auto_columns": null,
            "margin": null,
            "display": null,
            "left": null
          }
        },
        "4db08e93da6e4411afdcb7eb9cdbdea5": {
          "model_module": "@jupyter-widgets/controls",
          "model_name": "HBoxModel",
          "state": {
            "_view_name": "HBoxView",
            "_dom_classes": [],
            "_model_name": "HBoxModel",
            "_view_module": "@jupyter-widgets/controls",
            "_model_module_version": "1.5.0",
            "_view_count": null,
            "_view_module_version": "1.5.0",
            "box_style": "",
            "layout": "IPY_MODEL_43c7501b66dc461ab9f059549bf3660f",
            "_model_module": "@jupyter-widgets/controls",
            "children": [
              "IPY_MODEL_f6efd362cf3b4989a455b28aa2f80c27",
              "IPY_MODEL_e5184652efeb4b5dad04acfca219e642"
            ]
          }
        },
        "43c7501b66dc461ab9f059549bf3660f": {
          "model_module": "@jupyter-widgets/base",
          "model_name": "LayoutModel",
          "state": {
            "_view_name": "LayoutView",
            "grid_template_rows": null,
            "right": null,
            "justify_content": null,
            "_view_module": "@jupyter-widgets/base",
            "overflow": null,
            "_model_module_version": "1.2.0",
            "_view_count": null,
            "flex_flow": null,
            "width": null,
            "min_width": null,
            "border": null,
            "align_items": null,
            "bottom": null,
            "_model_module": "@jupyter-widgets/base",
            "top": null,
            "grid_column": null,
            "overflow_y": null,
            "overflow_x": null,
            "grid_auto_flow": null,
            "grid_area": null,
            "grid_template_columns": null,
            "flex": null,
            "_model_name": "LayoutModel",
            "justify_items": null,
            "grid_row": null,
            "max_height": null,
            "align_content": null,
            "visibility": null,
            "align_self": null,
            "height": null,
            "min_height": null,
            "padding": null,
            "grid_auto_rows": null,
            "grid_gap": null,
            "max_width": null,
            "order": null,
            "_view_module_version": "1.2.0",
            "grid_template_areas": null,
            "object_position": null,
            "object_fit": null,
            "grid_auto_columns": null,
            "margin": null,
            "display": null,
            "left": null
          }
        },
        "f6efd362cf3b4989a455b28aa2f80c27": {
          "model_module": "@jupyter-widgets/controls",
          "model_name": "FloatProgressModel",
          "state": {
            "_view_name": "ProgressView",
            "style": "IPY_MODEL_6b0be1eda9ce4191bf3d73bdf4a77635",
            "_dom_classes": [],
            "description": "",
            "_model_name": "FloatProgressModel",
            "bar_style": "info",
            "max": 1,
            "_view_module": "@jupyter-widgets/controls",
            "_model_module_version": "1.5.0",
            "value": 1,
            "_view_count": null,
            "_view_module_version": "1.5.0",
            "orientation": "horizontal",
            "min": 0,
            "description_tooltip": null,
            "_model_module": "@jupyter-widgets/controls",
            "layout": "IPY_MODEL_2544b6d77d6846dc972375e5e50cc241"
          }
        },
        "e5184652efeb4b5dad04acfca219e642": {
          "model_module": "@jupyter-widgets/controls",
          "model_name": "HTMLModel",
          "state": {
            "_view_name": "HTMLView",
            "style": "IPY_MODEL_68e0ad3bff2e48eabe2f221cc4ea4454",
            "_dom_classes": [],
            "description": "",
            "_model_name": "HTMLModel",
            "placeholder": "​",
            "_view_module": "@jupyter-widgets/controls",
            "_model_module_version": "1.5.0",
            "value": " 25000/0 [00:16&lt;00:00, 2611.11 examples/s]",
            "_view_count": null,
            "_view_module_version": "1.5.0",
            "description_tooltip": null,
            "_model_module": "@jupyter-widgets/controls",
            "layout": "IPY_MODEL_3af473b7a56e45f6be548caa3e4b37a5"
          }
        },
        "6b0be1eda9ce4191bf3d73bdf4a77635": {
          "model_module": "@jupyter-widgets/controls",
          "model_name": "ProgressStyleModel",
          "state": {
            "_view_name": "StyleView",
            "_model_name": "ProgressStyleModel",
            "description_width": "initial",
            "_view_module": "@jupyter-widgets/base",
            "_model_module_version": "1.5.0",
            "_view_count": null,
            "_view_module_version": "1.2.0",
            "bar_color": null,
            "_model_module": "@jupyter-widgets/controls"
          }
        },
        "2544b6d77d6846dc972375e5e50cc241": {
          "model_module": "@jupyter-widgets/base",
          "model_name": "LayoutModel",
          "state": {
            "_view_name": "LayoutView",
            "grid_template_rows": null,
            "right": null,
            "justify_content": null,
            "_view_module": "@jupyter-widgets/base",
            "overflow": null,
            "_model_module_version": "1.2.0",
            "_view_count": null,
            "flex_flow": null,
            "width": null,
            "min_width": null,
            "border": null,
            "align_items": null,
            "bottom": null,
            "_model_module": "@jupyter-widgets/base",
            "top": null,
            "grid_column": null,
            "overflow_y": null,
            "overflow_x": null,
            "grid_auto_flow": null,
            "grid_area": null,
            "grid_template_columns": null,
            "flex": null,
            "_model_name": "LayoutModel",
            "justify_items": null,
            "grid_row": null,
            "max_height": null,
            "align_content": null,
            "visibility": null,
            "align_self": null,
            "height": null,
            "min_height": null,
            "padding": null,
            "grid_auto_rows": null,
            "grid_gap": null,
            "max_width": null,
            "order": null,
            "_view_module_version": "1.2.0",
            "grid_template_areas": null,
            "object_position": null,
            "object_fit": null,
            "grid_auto_columns": null,
            "margin": null,
            "display": null,
            "left": null
          }
        },
        "68e0ad3bff2e48eabe2f221cc4ea4454": {
          "model_module": "@jupyter-widgets/controls",
          "model_name": "DescriptionStyleModel",
          "state": {
            "_view_name": "StyleView",
            "_model_name": "DescriptionStyleModel",
            "description_width": "",
            "_view_module": "@jupyter-widgets/base",
            "_model_module_version": "1.5.0",
            "_view_count": null,
            "_view_module_version": "1.2.0",
            "_model_module": "@jupyter-widgets/controls"
          }
        },
        "3af473b7a56e45f6be548caa3e4b37a5": {
          "model_module": "@jupyter-widgets/base",
          "model_name": "LayoutModel",
          "state": {
            "_view_name": "LayoutView",
            "grid_template_rows": null,
            "right": null,
            "justify_content": null,
            "_view_module": "@jupyter-widgets/base",
            "overflow": null,
            "_model_module_version": "1.2.0",
            "_view_count": null,
            "flex_flow": null,
            "width": null,
            "min_width": null,
            "border": null,
            "align_items": null,
            "bottom": null,
            "_model_module": "@jupyter-widgets/base",
            "top": null,
            "grid_column": null,
            "overflow_y": null,
            "overflow_x": null,
            "grid_auto_flow": null,
            "grid_area": null,
            "grid_template_columns": null,
            "flex": null,
            "_model_name": "LayoutModel",
            "justify_items": null,
            "grid_row": null,
            "max_height": null,
            "align_content": null,
            "visibility": null,
            "align_self": null,
            "height": null,
            "min_height": null,
            "padding": null,
            "grid_auto_rows": null,
            "grid_gap": null,
            "max_width": null,
            "order": null,
            "_view_module_version": "1.2.0",
            "grid_template_areas": null,
            "object_position": null,
            "object_fit": null,
            "grid_auto_columns": null,
            "margin": null,
            "display": null,
            "left": null
          }
        },
        "aae619170c87474d969c6b581b6a7189": {
          "model_module": "@jupyter-widgets/controls",
          "model_name": "HBoxModel",
          "state": {
            "_view_name": "HBoxView",
            "_dom_classes": [],
            "_model_name": "HBoxModel",
            "_view_module": "@jupyter-widgets/controls",
            "_model_module_version": "1.5.0",
            "_view_count": null,
            "_view_module_version": "1.5.0",
            "box_style": "",
            "layout": "IPY_MODEL_2d18b89a60354776a06f0588641153e0",
            "_model_module": "@jupyter-widgets/controls",
            "children": [
              "IPY_MODEL_0a2d4543fc714262904d5e4dfc9af9cf",
              "IPY_MODEL_7a1e33d8c41640e18031fe8d17a1abff"
            ]
          }
        },
        "2d18b89a60354776a06f0588641153e0": {
          "model_module": "@jupyter-widgets/base",
          "model_name": "LayoutModel",
          "state": {
            "_view_name": "LayoutView",
            "grid_template_rows": null,
            "right": null,
            "justify_content": null,
            "_view_module": "@jupyter-widgets/base",
            "overflow": null,
            "_model_module_version": "1.2.0",
            "_view_count": null,
            "flex_flow": null,
            "width": null,
            "min_width": null,
            "border": null,
            "align_items": null,
            "bottom": null,
            "_model_module": "@jupyter-widgets/base",
            "top": null,
            "grid_column": null,
            "overflow_y": null,
            "overflow_x": null,
            "grid_auto_flow": null,
            "grid_area": null,
            "grid_template_columns": null,
            "flex": null,
            "_model_name": "LayoutModel",
            "justify_items": null,
            "grid_row": null,
            "max_height": null,
            "align_content": null,
            "visibility": null,
            "align_self": null,
            "height": null,
            "min_height": null,
            "padding": null,
            "grid_auto_rows": null,
            "grid_gap": null,
            "max_width": null,
            "order": null,
            "_view_module_version": "1.2.0",
            "grid_template_areas": null,
            "object_position": null,
            "object_fit": null,
            "grid_auto_columns": null,
            "margin": null,
            "display": null,
            "left": null
          }
        },
        "0a2d4543fc714262904d5e4dfc9af9cf": {
          "model_module": "@jupyter-widgets/controls",
          "model_name": "FloatProgressModel",
          "state": {
            "_view_name": "ProgressView",
            "style": "IPY_MODEL_252d4f7028ef43d3a982d2d8574063d8",
            "_dom_classes": [],
            "description": " 27%",
            "_model_name": "FloatProgressModel",
            "bar_style": "danger",
            "max": 25000,
            "_view_module": "@jupyter-widgets/controls",
            "_model_module_version": "1.5.0",
            "value": 6788,
            "_view_count": null,
            "_view_module_version": "1.5.0",
            "orientation": "horizontal",
            "min": 0,
            "description_tooltip": null,
            "_model_module": "@jupyter-widgets/controls",
            "layout": "IPY_MODEL_c1943c69b922465e9ec6b1598e5277d1"
          }
        },
        "7a1e33d8c41640e18031fe8d17a1abff": {
          "model_module": "@jupyter-widgets/controls",
          "model_name": "HTMLModel",
          "state": {
            "_view_name": "HTMLView",
            "style": "IPY_MODEL_35aa78f009e140e49a9af88ea6dffd7c",
            "_dom_classes": [],
            "description": "",
            "_model_name": "HTMLModel",
            "placeholder": "​",
            "_view_module": "@jupyter-widgets/controls",
            "_model_module_version": "1.5.0",
            "value": " 6788/25000 [00:00&lt;00:00, 67879.09 examples/s]",
            "_view_count": null,
            "_view_module_version": "1.5.0",
            "description_tooltip": null,
            "_model_module": "@jupyter-widgets/controls",
            "layout": "IPY_MODEL_8a897e719b2a485d8c147e1f54e3e835"
          }
        },
        "252d4f7028ef43d3a982d2d8574063d8": {
          "model_module": "@jupyter-widgets/controls",
          "model_name": "ProgressStyleModel",
          "state": {
            "_view_name": "StyleView",
            "_model_name": "ProgressStyleModel",
            "description_width": "initial",
            "_view_module": "@jupyter-widgets/base",
            "_model_module_version": "1.5.0",
            "_view_count": null,
            "_view_module_version": "1.2.0",
            "bar_color": null,
            "_model_module": "@jupyter-widgets/controls"
          }
        },
        "c1943c69b922465e9ec6b1598e5277d1": {
          "model_module": "@jupyter-widgets/base",
          "model_name": "LayoutModel",
          "state": {
            "_view_name": "LayoutView",
            "grid_template_rows": null,
            "right": null,
            "justify_content": null,
            "_view_module": "@jupyter-widgets/base",
            "overflow": null,
            "_model_module_version": "1.2.0",
            "_view_count": null,
            "flex_flow": null,
            "width": null,
            "min_width": null,
            "border": null,
            "align_items": null,
            "bottom": null,
            "_model_module": "@jupyter-widgets/base",
            "top": null,
            "grid_column": null,
            "overflow_y": null,
            "overflow_x": null,
            "grid_auto_flow": null,
            "grid_area": null,
            "grid_template_columns": null,
            "flex": null,
            "_model_name": "LayoutModel",
            "justify_items": null,
            "grid_row": null,
            "max_height": null,
            "align_content": null,
            "visibility": null,
            "align_self": null,
            "height": null,
            "min_height": null,
            "padding": null,
            "grid_auto_rows": null,
            "grid_gap": null,
            "max_width": null,
            "order": null,
            "_view_module_version": "1.2.0",
            "grid_template_areas": null,
            "object_position": null,
            "object_fit": null,
            "grid_auto_columns": null,
            "margin": null,
            "display": null,
            "left": null
          }
        },
        "35aa78f009e140e49a9af88ea6dffd7c": {
          "model_module": "@jupyter-widgets/controls",
          "model_name": "DescriptionStyleModel",
          "state": {
            "_view_name": "StyleView",
            "_model_name": "DescriptionStyleModel",
            "description_width": "",
            "_view_module": "@jupyter-widgets/base",
            "_model_module_version": "1.5.0",
            "_view_count": null,
            "_view_module_version": "1.2.0",
            "_model_module": "@jupyter-widgets/controls"
          }
        },
        "8a897e719b2a485d8c147e1f54e3e835": {
          "model_module": "@jupyter-widgets/base",
          "model_name": "LayoutModel",
          "state": {
            "_view_name": "LayoutView",
            "grid_template_rows": null,
            "right": null,
            "justify_content": null,
            "_view_module": "@jupyter-widgets/base",
            "overflow": null,
            "_model_module_version": "1.2.0",
            "_view_count": null,
            "flex_flow": null,
            "width": null,
            "min_width": null,
            "border": null,
            "align_items": null,
            "bottom": null,
            "_model_module": "@jupyter-widgets/base",
            "top": null,
            "grid_column": null,
            "overflow_y": null,
            "overflow_x": null,
            "grid_auto_flow": null,
            "grid_area": null,
            "grid_template_columns": null,
            "flex": null,
            "_model_name": "LayoutModel",
            "justify_items": null,
            "grid_row": null,
            "max_height": null,
            "align_content": null,
            "visibility": null,
            "align_self": null,
            "height": null,
            "min_height": null,
            "padding": null,
            "grid_auto_rows": null,
            "grid_gap": null,
            "max_width": null,
            "order": null,
            "_view_module_version": "1.2.0",
            "grid_template_areas": null,
            "object_position": null,
            "object_fit": null,
            "grid_auto_columns": null,
            "margin": null,
            "display": null,
            "left": null
          }
        },
        "9a827dbe33ca4afb8c6f909ae51fcd9a": {
          "model_module": "@jupyter-widgets/controls",
          "model_name": "HBoxModel",
          "state": {
            "_view_name": "HBoxView",
            "_dom_classes": [],
            "_model_name": "HBoxModel",
            "_view_module": "@jupyter-widgets/controls",
            "_model_module_version": "1.5.0",
            "_view_count": null,
            "_view_module_version": "1.5.0",
            "box_style": "",
            "layout": "IPY_MODEL_e77052cda79e45499e076677e9eb112a",
            "_model_module": "@jupyter-widgets/controls",
            "children": [
              "IPY_MODEL_e6ccb2047ef8432387eee80d9512f1ad",
              "IPY_MODEL_d3f9d1f988aa4f1db0df517817f15351"
            ]
          }
        },
        "e77052cda79e45499e076677e9eb112a": {
          "model_module": "@jupyter-widgets/base",
          "model_name": "LayoutModel",
          "state": {
            "_view_name": "LayoutView",
            "grid_template_rows": null,
            "right": null,
            "justify_content": null,
            "_view_module": "@jupyter-widgets/base",
            "overflow": null,
            "_model_module_version": "1.2.0",
            "_view_count": null,
            "flex_flow": null,
            "width": null,
            "min_width": null,
            "border": null,
            "align_items": null,
            "bottom": null,
            "_model_module": "@jupyter-widgets/base",
            "top": null,
            "grid_column": null,
            "overflow_y": null,
            "overflow_x": null,
            "grid_auto_flow": null,
            "grid_area": null,
            "grid_template_columns": null,
            "flex": null,
            "_model_name": "LayoutModel",
            "justify_items": null,
            "grid_row": null,
            "max_height": null,
            "align_content": null,
            "visibility": null,
            "align_self": null,
            "height": null,
            "min_height": null,
            "padding": null,
            "grid_auto_rows": null,
            "grid_gap": null,
            "max_width": null,
            "order": null,
            "_view_module_version": "1.2.0",
            "grid_template_areas": null,
            "object_position": null,
            "object_fit": null,
            "grid_auto_columns": null,
            "margin": null,
            "display": null,
            "left": null
          }
        },
        "e6ccb2047ef8432387eee80d9512f1ad": {
          "model_module": "@jupyter-widgets/controls",
          "model_name": "FloatProgressModel",
          "state": {
            "_view_name": "ProgressView",
            "style": "IPY_MODEL_6829fed82bfd432898e9dfbfeb0728af",
            "_dom_classes": [],
            "description": "",
            "_model_name": "FloatProgressModel",
            "bar_style": "info",
            "max": 1,
            "_view_module": "@jupyter-widgets/controls",
            "_model_module_version": "1.5.0",
            "value": 1,
            "_view_count": null,
            "_view_module_version": "1.5.0",
            "orientation": "horizontal",
            "min": 0,
            "description_tooltip": null,
            "_model_module": "@jupyter-widgets/controls",
            "layout": "IPY_MODEL_375c861f3c704966b4310e4efb76f5b1"
          }
        },
        "d3f9d1f988aa4f1db0df517817f15351": {
          "model_module": "@jupyter-widgets/controls",
          "model_name": "HTMLModel",
          "state": {
            "_view_name": "HTMLView",
            "style": "IPY_MODEL_60532897ba464ecf931b0bf23a387bda",
            "_dom_classes": [],
            "description": "",
            "_model_name": "HTMLModel",
            "placeholder": "​",
            "_view_module": "@jupyter-widgets/controls",
            "_model_module_version": "1.5.0",
            "value": " 25000/0 [00:16&lt;00:00, 2640.76 examples/s]",
            "_view_count": null,
            "_view_module_version": "1.5.0",
            "description_tooltip": null,
            "_model_module": "@jupyter-widgets/controls",
            "layout": "IPY_MODEL_d6b30fed530c4f09a57d8bf5f6598714"
          }
        },
        "6829fed82bfd432898e9dfbfeb0728af": {
          "model_module": "@jupyter-widgets/controls",
          "model_name": "ProgressStyleModel",
          "state": {
            "_view_name": "StyleView",
            "_model_name": "ProgressStyleModel",
            "description_width": "initial",
            "_view_module": "@jupyter-widgets/base",
            "_model_module_version": "1.5.0",
            "_view_count": null,
            "_view_module_version": "1.2.0",
            "bar_color": null,
            "_model_module": "@jupyter-widgets/controls"
          }
        },
        "375c861f3c704966b4310e4efb76f5b1": {
          "model_module": "@jupyter-widgets/base",
          "model_name": "LayoutModel",
          "state": {
            "_view_name": "LayoutView",
            "grid_template_rows": null,
            "right": null,
            "justify_content": null,
            "_view_module": "@jupyter-widgets/base",
            "overflow": null,
            "_model_module_version": "1.2.0",
            "_view_count": null,
            "flex_flow": null,
            "width": null,
            "min_width": null,
            "border": null,
            "align_items": null,
            "bottom": null,
            "_model_module": "@jupyter-widgets/base",
            "top": null,
            "grid_column": null,
            "overflow_y": null,
            "overflow_x": null,
            "grid_auto_flow": null,
            "grid_area": null,
            "grid_template_columns": null,
            "flex": null,
            "_model_name": "LayoutModel",
            "justify_items": null,
            "grid_row": null,
            "max_height": null,
            "align_content": null,
            "visibility": null,
            "align_self": null,
            "height": null,
            "min_height": null,
            "padding": null,
            "grid_auto_rows": null,
            "grid_gap": null,
            "max_width": null,
            "order": null,
            "_view_module_version": "1.2.0",
            "grid_template_areas": null,
            "object_position": null,
            "object_fit": null,
            "grid_auto_columns": null,
            "margin": null,
            "display": null,
            "left": null
          }
        },
        "60532897ba464ecf931b0bf23a387bda": {
          "model_module": "@jupyter-widgets/controls",
          "model_name": "DescriptionStyleModel",
          "state": {
            "_view_name": "StyleView",
            "_model_name": "DescriptionStyleModel",
            "description_width": "",
            "_view_module": "@jupyter-widgets/base",
            "_model_module_version": "1.5.0",
            "_view_count": null,
            "_view_module_version": "1.2.0",
            "_model_module": "@jupyter-widgets/controls"
          }
        },
        "d6b30fed530c4f09a57d8bf5f6598714": {
          "model_module": "@jupyter-widgets/base",
          "model_name": "LayoutModel",
          "state": {
            "_view_name": "LayoutView",
            "grid_template_rows": null,
            "right": null,
            "justify_content": null,
            "_view_module": "@jupyter-widgets/base",
            "overflow": null,
            "_model_module_version": "1.2.0",
            "_view_count": null,
            "flex_flow": null,
            "width": null,
            "min_width": null,
            "border": null,
            "align_items": null,
            "bottom": null,
            "_model_module": "@jupyter-widgets/base",
            "top": null,
            "grid_column": null,
            "overflow_y": null,
            "overflow_x": null,
            "grid_auto_flow": null,
            "grid_area": null,
            "grid_template_columns": null,
            "flex": null,
            "_model_name": "LayoutModel",
            "justify_items": null,
            "grid_row": null,
            "max_height": null,
            "align_content": null,
            "visibility": null,
            "align_self": null,
            "height": null,
            "min_height": null,
            "padding": null,
            "grid_auto_rows": null,
            "grid_gap": null,
            "max_width": null,
            "order": null,
            "_view_module_version": "1.2.0",
            "grid_template_areas": null,
            "object_position": null,
            "object_fit": null,
            "grid_auto_columns": null,
            "margin": null,
            "display": null,
            "left": null
          }
        },
        "b849d53729af4731a0e6e29427448f9f": {
          "model_module": "@jupyter-widgets/controls",
          "model_name": "HBoxModel",
          "state": {
            "_view_name": "HBoxView",
            "_dom_classes": [],
            "_model_name": "HBoxModel",
            "_view_module": "@jupyter-widgets/controls",
            "_model_module_version": "1.5.0",
            "_view_count": null,
            "_view_module_version": "1.5.0",
            "box_style": "",
            "layout": "IPY_MODEL_3c99ac7804114b3aa0fe29e432d0338f",
            "_model_module": "@jupyter-widgets/controls",
            "children": [
              "IPY_MODEL_63073ffb77cf46519f777023884f249f",
              "IPY_MODEL_2e4cc8039cc54348ab621b955ab5d5f0"
            ]
          }
        },
        "3c99ac7804114b3aa0fe29e432d0338f": {
          "model_module": "@jupyter-widgets/base",
          "model_name": "LayoutModel",
          "state": {
            "_view_name": "LayoutView",
            "grid_template_rows": null,
            "right": null,
            "justify_content": null,
            "_view_module": "@jupyter-widgets/base",
            "overflow": null,
            "_model_module_version": "1.2.0",
            "_view_count": null,
            "flex_flow": null,
            "width": null,
            "min_width": null,
            "border": null,
            "align_items": null,
            "bottom": null,
            "_model_module": "@jupyter-widgets/base",
            "top": null,
            "grid_column": null,
            "overflow_y": null,
            "overflow_x": null,
            "grid_auto_flow": null,
            "grid_area": null,
            "grid_template_columns": null,
            "flex": null,
            "_model_name": "LayoutModel",
            "justify_items": null,
            "grid_row": null,
            "max_height": null,
            "align_content": null,
            "visibility": null,
            "align_self": null,
            "height": null,
            "min_height": null,
            "padding": null,
            "grid_auto_rows": null,
            "grid_gap": null,
            "max_width": null,
            "order": null,
            "_view_module_version": "1.2.0",
            "grid_template_areas": null,
            "object_position": null,
            "object_fit": null,
            "grid_auto_columns": null,
            "margin": null,
            "display": null,
            "left": null
          }
        },
        "63073ffb77cf46519f777023884f249f": {
          "model_module": "@jupyter-widgets/controls",
          "model_name": "FloatProgressModel",
          "state": {
            "_view_name": "ProgressView",
            "style": "IPY_MODEL_a27a23d1c36e41bcb02007856c88c0c9",
            "_dom_classes": [],
            "description": " 25%",
            "_model_name": "FloatProgressModel",
            "bar_style": "danger",
            "max": 25000,
            "_view_module": "@jupyter-widgets/controls",
            "_model_module_version": "1.5.0",
            "value": 6211,
            "_view_count": null,
            "_view_module_version": "1.5.0",
            "orientation": "horizontal",
            "min": 0,
            "description_tooltip": null,
            "_model_module": "@jupyter-widgets/controls",
            "layout": "IPY_MODEL_e5574f45e08d4e51aa3931397601ff5f"
          }
        },
        "2e4cc8039cc54348ab621b955ab5d5f0": {
          "model_module": "@jupyter-widgets/controls",
          "model_name": "HTMLModel",
          "state": {
            "_view_name": "HTMLView",
            "style": "IPY_MODEL_a333fc0cc87e4a11b068d230ee5c3790",
            "_dom_classes": [],
            "description": "",
            "_model_name": "HTMLModel",
            "placeholder": "​",
            "_view_module": "@jupyter-widgets/controls",
            "_model_module_version": "1.5.0",
            "value": " 6211/25000 [00:00&lt;00:00, 62108.28 examples/s]",
            "_view_count": null,
            "_view_module_version": "1.5.0",
            "description_tooltip": null,
            "_model_module": "@jupyter-widgets/controls",
            "layout": "IPY_MODEL_2adf63568dbb41eeae5ad3424d297957"
          }
        },
        "a27a23d1c36e41bcb02007856c88c0c9": {
          "model_module": "@jupyter-widgets/controls",
          "model_name": "ProgressStyleModel",
          "state": {
            "_view_name": "StyleView",
            "_model_name": "ProgressStyleModel",
            "description_width": "initial",
            "_view_module": "@jupyter-widgets/base",
            "_model_module_version": "1.5.0",
            "_view_count": null,
            "_view_module_version": "1.2.0",
            "bar_color": null,
            "_model_module": "@jupyter-widgets/controls"
          }
        },
        "e5574f45e08d4e51aa3931397601ff5f": {
          "model_module": "@jupyter-widgets/base",
          "model_name": "LayoutModel",
          "state": {
            "_view_name": "LayoutView",
            "grid_template_rows": null,
            "right": null,
            "justify_content": null,
            "_view_module": "@jupyter-widgets/base",
            "overflow": null,
            "_model_module_version": "1.2.0",
            "_view_count": null,
            "flex_flow": null,
            "width": null,
            "min_width": null,
            "border": null,
            "align_items": null,
            "bottom": null,
            "_model_module": "@jupyter-widgets/base",
            "top": null,
            "grid_column": null,
            "overflow_y": null,
            "overflow_x": null,
            "grid_auto_flow": null,
            "grid_area": null,
            "grid_template_columns": null,
            "flex": null,
            "_model_name": "LayoutModel",
            "justify_items": null,
            "grid_row": null,
            "max_height": null,
            "align_content": null,
            "visibility": null,
            "align_self": null,
            "height": null,
            "min_height": null,
            "padding": null,
            "grid_auto_rows": null,
            "grid_gap": null,
            "max_width": null,
            "order": null,
            "_view_module_version": "1.2.0",
            "grid_template_areas": null,
            "object_position": null,
            "object_fit": null,
            "grid_auto_columns": null,
            "margin": null,
            "display": null,
            "left": null
          }
        },
        "a333fc0cc87e4a11b068d230ee5c3790": {
          "model_module": "@jupyter-widgets/controls",
          "model_name": "DescriptionStyleModel",
          "state": {
            "_view_name": "StyleView",
            "_model_name": "DescriptionStyleModel",
            "description_width": "",
            "_view_module": "@jupyter-widgets/base",
            "_model_module_version": "1.5.0",
            "_view_count": null,
            "_view_module_version": "1.2.0",
            "_model_module": "@jupyter-widgets/controls"
          }
        },
        "2adf63568dbb41eeae5ad3424d297957": {
          "model_module": "@jupyter-widgets/base",
          "model_name": "LayoutModel",
          "state": {
            "_view_name": "LayoutView",
            "grid_template_rows": null,
            "right": null,
            "justify_content": null,
            "_view_module": "@jupyter-widgets/base",
            "overflow": null,
            "_model_module_version": "1.2.0",
            "_view_count": null,
            "flex_flow": null,
            "width": null,
            "min_width": null,
            "border": null,
            "align_items": null,
            "bottom": null,
            "_model_module": "@jupyter-widgets/base",
            "top": null,
            "grid_column": null,
            "overflow_y": null,
            "overflow_x": null,
            "grid_auto_flow": null,
            "grid_area": null,
            "grid_template_columns": null,
            "flex": null,
            "_model_name": "LayoutModel",
            "justify_items": null,
            "grid_row": null,
            "max_height": null,
            "align_content": null,
            "visibility": null,
            "align_self": null,
            "height": null,
            "min_height": null,
            "padding": null,
            "grid_auto_rows": null,
            "grid_gap": null,
            "max_width": null,
            "order": null,
            "_view_module_version": "1.2.0",
            "grid_template_areas": null,
            "object_position": null,
            "object_fit": null,
            "grid_auto_columns": null,
            "margin": null,
            "display": null,
            "left": null
          }
        },
        "46dbf3ee62b343d381f3af8ca10e6cb1": {
          "model_module": "@jupyter-widgets/controls",
          "model_name": "HBoxModel",
          "state": {
            "_view_name": "HBoxView",
            "_dom_classes": [],
            "_model_name": "HBoxModel",
            "_view_module": "@jupyter-widgets/controls",
            "_model_module_version": "1.5.0",
            "_view_count": null,
            "_view_module_version": "1.5.0",
            "box_style": "",
            "layout": "IPY_MODEL_8368e785d0e4451597e8d5b38f3384d2",
            "_model_module": "@jupyter-widgets/controls",
            "children": [
              "IPY_MODEL_c4aa0e8323c4483ab6d74b123069d6c1",
              "IPY_MODEL_28aa156e04df4fb495b7d68395c52e83"
            ]
          }
        },
        "8368e785d0e4451597e8d5b38f3384d2": {
          "model_module": "@jupyter-widgets/base",
          "model_name": "LayoutModel",
          "state": {
            "_view_name": "LayoutView",
            "grid_template_rows": null,
            "right": null,
            "justify_content": null,
            "_view_module": "@jupyter-widgets/base",
            "overflow": null,
            "_model_module_version": "1.2.0",
            "_view_count": null,
            "flex_flow": null,
            "width": null,
            "min_width": null,
            "border": null,
            "align_items": null,
            "bottom": null,
            "_model_module": "@jupyter-widgets/base",
            "top": null,
            "grid_column": null,
            "overflow_y": null,
            "overflow_x": null,
            "grid_auto_flow": null,
            "grid_area": null,
            "grid_template_columns": null,
            "flex": null,
            "_model_name": "LayoutModel",
            "justify_items": null,
            "grid_row": null,
            "max_height": null,
            "align_content": null,
            "visibility": null,
            "align_self": null,
            "height": null,
            "min_height": null,
            "padding": null,
            "grid_auto_rows": null,
            "grid_gap": null,
            "max_width": null,
            "order": null,
            "_view_module_version": "1.2.0",
            "grid_template_areas": null,
            "object_position": null,
            "object_fit": null,
            "grid_auto_columns": null,
            "margin": null,
            "display": null,
            "left": null
          }
        },
        "c4aa0e8323c4483ab6d74b123069d6c1": {
          "model_module": "@jupyter-widgets/controls",
          "model_name": "FloatProgressModel",
          "state": {
            "_view_name": "ProgressView",
            "style": "IPY_MODEL_a4e63e87a501413596ce2a2ed6ff93ae",
            "_dom_classes": [],
            "description": "",
            "_model_name": "FloatProgressModel",
            "bar_style": "info",
            "max": 1,
            "_view_module": "@jupyter-widgets/controls",
            "_model_module_version": "1.5.0",
            "value": 1,
            "_view_count": null,
            "_view_module_version": "1.5.0",
            "orientation": "horizontal",
            "min": 0,
            "description_tooltip": null,
            "_model_module": "@jupyter-widgets/controls",
            "layout": "IPY_MODEL_0549b159697940fdb9eae74d864bdbd4"
          }
        },
        "28aa156e04df4fb495b7d68395c52e83": {
          "model_module": "@jupyter-widgets/controls",
          "model_name": "HTMLModel",
          "state": {
            "_view_name": "HTMLView",
            "style": "IPY_MODEL_aaee9a1c05704b0c9c3891b110d1cf05",
            "_dom_classes": [],
            "description": "",
            "_model_name": "HTMLModel",
            "placeholder": "​",
            "_view_module": "@jupyter-widgets/controls",
            "_model_module_version": "1.5.0",
            "value": " 50000/0 [00:23&lt;00:00, 2642.50 examples/s]",
            "_view_count": null,
            "_view_module_version": "1.5.0",
            "description_tooltip": null,
            "_model_module": "@jupyter-widgets/controls",
            "layout": "IPY_MODEL_0a8c7104c4d74eeba2dd300125092d29"
          }
        },
        "a4e63e87a501413596ce2a2ed6ff93ae": {
          "model_module": "@jupyter-widgets/controls",
          "model_name": "ProgressStyleModel",
          "state": {
            "_view_name": "StyleView",
            "_model_name": "ProgressStyleModel",
            "description_width": "initial",
            "_view_module": "@jupyter-widgets/base",
            "_model_module_version": "1.5.0",
            "_view_count": null,
            "_view_module_version": "1.2.0",
            "bar_color": null,
            "_model_module": "@jupyter-widgets/controls"
          }
        },
        "0549b159697940fdb9eae74d864bdbd4": {
          "model_module": "@jupyter-widgets/base",
          "model_name": "LayoutModel",
          "state": {
            "_view_name": "LayoutView",
            "grid_template_rows": null,
            "right": null,
            "justify_content": null,
            "_view_module": "@jupyter-widgets/base",
            "overflow": null,
            "_model_module_version": "1.2.0",
            "_view_count": null,
            "flex_flow": null,
            "width": null,
            "min_width": null,
            "border": null,
            "align_items": null,
            "bottom": null,
            "_model_module": "@jupyter-widgets/base",
            "top": null,
            "grid_column": null,
            "overflow_y": null,
            "overflow_x": null,
            "grid_auto_flow": null,
            "grid_area": null,
            "grid_template_columns": null,
            "flex": null,
            "_model_name": "LayoutModel",
            "justify_items": null,
            "grid_row": null,
            "max_height": null,
            "align_content": null,
            "visibility": null,
            "align_self": null,
            "height": null,
            "min_height": null,
            "padding": null,
            "grid_auto_rows": null,
            "grid_gap": null,
            "max_width": null,
            "order": null,
            "_view_module_version": "1.2.0",
            "grid_template_areas": null,
            "object_position": null,
            "object_fit": null,
            "grid_auto_columns": null,
            "margin": null,
            "display": null,
            "left": null
          }
        },
        "aaee9a1c05704b0c9c3891b110d1cf05": {
          "model_module": "@jupyter-widgets/controls",
          "model_name": "DescriptionStyleModel",
          "state": {
            "_view_name": "StyleView",
            "_model_name": "DescriptionStyleModel",
            "description_width": "",
            "_view_module": "@jupyter-widgets/base",
            "_model_module_version": "1.5.0",
            "_view_count": null,
            "_view_module_version": "1.2.0",
            "_model_module": "@jupyter-widgets/controls"
          }
        },
        "0a8c7104c4d74eeba2dd300125092d29": {
          "model_module": "@jupyter-widgets/base",
          "model_name": "LayoutModel",
          "state": {
            "_view_name": "LayoutView",
            "grid_template_rows": null,
            "right": null,
            "justify_content": null,
            "_view_module": "@jupyter-widgets/base",
            "overflow": null,
            "_model_module_version": "1.2.0",
            "_view_count": null,
            "flex_flow": null,
            "width": null,
            "min_width": null,
            "border": null,
            "align_items": null,
            "bottom": null,
            "_model_module": "@jupyter-widgets/base",
            "top": null,
            "grid_column": null,
            "overflow_y": null,
            "overflow_x": null,
            "grid_auto_flow": null,
            "grid_area": null,
            "grid_template_columns": null,
            "flex": null,
            "_model_name": "LayoutModel",
            "justify_items": null,
            "grid_row": null,
            "max_height": null,
            "align_content": null,
            "visibility": null,
            "align_self": null,
            "height": null,
            "min_height": null,
            "padding": null,
            "grid_auto_rows": null,
            "grid_gap": null,
            "max_width": null,
            "order": null,
            "_view_module_version": "1.2.0",
            "grid_template_areas": null,
            "object_position": null,
            "object_fit": null,
            "grid_auto_columns": null,
            "margin": null,
            "display": null,
            "left": null
          }
        },
        "83d64a3ee30f4b7096c8a971e89b4480": {
          "model_module": "@jupyter-widgets/controls",
          "model_name": "HBoxModel",
          "state": {
            "_view_name": "HBoxView",
            "_dom_classes": [],
            "_model_name": "HBoxModel",
            "_view_module": "@jupyter-widgets/controls",
            "_model_module_version": "1.5.0",
            "_view_count": null,
            "_view_module_version": "1.5.0",
            "box_style": "",
            "layout": "IPY_MODEL_5a266a163b9a4282a33950c33b993ca6",
            "_model_module": "@jupyter-widgets/controls",
            "children": [
              "IPY_MODEL_54467392556343a0a01c419093d2f39e",
              "IPY_MODEL_7dbbf08009c343548a0ffbe9a4e2eeb4"
            ]
          }
        },
        "5a266a163b9a4282a33950c33b993ca6": {
          "model_module": "@jupyter-widgets/base",
          "model_name": "LayoutModel",
          "state": {
            "_view_name": "LayoutView",
            "grid_template_rows": null,
            "right": null,
            "justify_content": null,
            "_view_module": "@jupyter-widgets/base",
            "overflow": null,
            "_model_module_version": "1.2.0",
            "_view_count": null,
            "flex_flow": null,
            "width": null,
            "min_width": null,
            "border": null,
            "align_items": null,
            "bottom": null,
            "_model_module": "@jupyter-widgets/base",
            "top": null,
            "grid_column": null,
            "overflow_y": null,
            "overflow_x": null,
            "grid_auto_flow": null,
            "grid_area": null,
            "grid_template_columns": null,
            "flex": null,
            "_model_name": "LayoutModel",
            "justify_items": null,
            "grid_row": null,
            "max_height": null,
            "align_content": null,
            "visibility": null,
            "align_self": null,
            "height": null,
            "min_height": null,
            "padding": null,
            "grid_auto_rows": null,
            "grid_gap": null,
            "max_width": null,
            "order": null,
            "_view_module_version": "1.2.0",
            "grid_template_areas": null,
            "object_position": null,
            "object_fit": null,
            "grid_auto_columns": null,
            "margin": null,
            "display": null,
            "left": null
          }
        },
        "54467392556343a0a01c419093d2f39e": {
          "model_module": "@jupyter-widgets/controls",
          "model_name": "FloatProgressModel",
          "state": {
            "_view_name": "ProgressView",
            "style": "IPY_MODEL_a8d1d9710c9a444cbe088f103725ace2",
            "_dom_classes": [],
            "description": " 82%",
            "_model_name": "FloatProgressModel",
            "bar_style": "danger",
            "max": 50000,
            "_view_module": "@jupyter-widgets/controls",
            "_model_module_version": "1.5.0",
            "value": 40814,
            "_view_count": null,
            "_view_module_version": "1.5.0",
            "orientation": "horizontal",
            "min": 0,
            "description_tooltip": null,
            "_model_module": "@jupyter-widgets/controls",
            "layout": "IPY_MODEL_9daa513490944468a926077d52d94daa"
          }
        },
        "7dbbf08009c343548a0ffbe9a4e2eeb4": {
          "model_module": "@jupyter-widgets/controls",
          "model_name": "HTMLModel",
          "state": {
            "_view_name": "HTMLView",
            "style": "IPY_MODEL_f644d1cf31504670a4e488141d567584",
            "_dom_classes": [],
            "description": "",
            "_model_name": "HTMLModel",
            "placeholder": "​",
            "_view_module": "@jupyter-widgets/controls",
            "_model_module_version": "1.5.0",
            "value": " 40814/50000 [00:05&lt;00:00, 28722.55 examples/s]",
            "_view_count": null,
            "_view_module_version": "1.5.0",
            "description_tooltip": null,
            "_model_module": "@jupyter-widgets/controls",
            "layout": "IPY_MODEL_40fcc828f7e044629b3ba4a3d1ec9e4a"
          }
        },
        "a8d1d9710c9a444cbe088f103725ace2": {
          "model_module": "@jupyter-widgets/controls",
          "model_name": "ProgressStyleModel",
          "state": {
            "_view_name": "StyleView",
            "_model_name": "ProgressStyleModel",
            "description_width": "initial",
            "_view_module": "@jupyter-widgets/base",
            "_model_module_version": "1.5.0",
            "_view_count": null,
            "_view_module_version": "1.2.0",
            "bar_color": null,
            "_model_module": "@jupyter-widgets/controls"
          }
        },
        "9daa513490944468a926077d52d94daa": {
          "model_module": "@jupyter-widgets/base",
          "model_name": "LayoutModel",
          "state": {
            "_view_name": "LayoutView",
            "grid_template_rows": null,
            "right": null,
            "justify_content": null,
            "_view_module": "@jupyter-widgets/base",
            "overflow": null,
            "_model_module_version": "1.2.0",
            "_view_count": null,
            "flex_flow": null,
            "width": null,
            "min_width": null,
            "border": null,
            "align_items": null,
            "bottom": null,
            "_model_module": "@jupyter-widgets/base",
            "top": null,
            "grid_column": null,
            "overflow_y": null,
            "overflow_x": null,
            "grid_auto_flow": null,
            "grid_area": null,
            "grid_template_columns": null,
            "flex": null,
            "_model_name": "LayoutModel",
            "justify_items": null,
            "grid_row": null,
            "max_height": null,
            "align_content": null,
            "visibility": null,
            "align_self": null,
            "height": null,
            "min_height": null,
            "padding": null,
            "grid_auto_rows": null,
            "grid_gap": null,
            "max_width": null,
            "order": null,
            "_view_module_version": "1.2.0",
            "grid_template_areas": null,
            "object_position": null,
            "object_fit": null,
            "grid_auto_columns": null,
            "margin": null,
            "display": null,
            "left": null
          }
        },
        "f644d1cf31504670a4e488141d567584": {
          "model_module": "@jupyter-widgets/controls",
          "model_name": "DescriptionStyleModel",
          "state": {
            "_view_name": "StyleView",
            "_model_name": "DescriptionStyleModel",
            "description_width": "",
            "_view_module": "@jupyter-widgets/base",
            "_model_module_version": "1.5.0",
            "_view_count": null,
            "_view_module_version": "1.2.0",
            "_model_module": "@jupyter-widgets/controls"
          }
        },
        "40fcc828f7e044629b3ba4a3d1ec9e4a": {
          "model_module": "@jupyter-widgets/base",
          "model_name": "LayoutModel",
          "state": {
            "_view_name": "LayoutView",
            "grid_template_rows": null,
            "right": null,
            "justify_content": null,
            "_view_module": "@jupyter-widgets/base",
            "overflow": null,
            "_model_module_version": "1.2.0",
            "_view_count": null,
            "flex_flow": null,
            "width": null,
            "min_width": null,
            "border": null,
            "align_items": null,
            "bottom": null,
            "_model_module": "@jupyter-widgets/base",
            "top": null,
            "grid_column": null,
            "overflow_y": null,
            "overflow_x": null,
            "grid_auto_flow": null,
            "grid_area": null,
            "grid_template_columns": null,
            "flex": null,
            "_model_name": "LayoutModel",
            "justify_items": null,
            "grid_row": null,
            "max_height": null,
            "align_content": null,
            "visibility": null,
            "align_self": null,
            "height": null,
            "min_height": null,
            "padding": null,
            "grid_auto_rows": null,
            "grid_gap": null,
            "max_width": null,
            "order": null,
            "_view_module_version": "1.2.0",
            "grid_template_areas": null,
            "object_position": null,
            "object_fit": null,
            "grid_auto_columns": null,
            "margin": null,
            "display": null,
            "left": null
          }
        }
      }
    }
  },
  "cells": [
    {
      "cell_type": "markdown",
      "metadata": {
        "id": "view-in-github",
        "colab_type": "text"
      },
      "source": [
        "<a href=\"https://colab.research.google.com/github/bahgat-ahmed/Natural-Language-Processing-in-TensorFlow/blob/main/Course_3_Week_3_Lesson_2_Comparing_LSTM_GRU_%26_Conv1D.ipynb\" target=\"_parent\"><img src=\"https://colab.research.google.com/assets/colab-badge.svg\" alt=\"Open In Colab\"/></a>"
      ]
    },
    {
      "cell_type": "code",
      "metadata": {
        "id": "zX4Kg8DUTKWO"
      },
      "source": [
        "#@title Licensed under the Apache License, Version 2.0 (the \"License\");\n",
        "# you may not use this file except in compliance with the License.\n",
        "# You may obtain a copy of the License at\n",
        "#\n",
        "# https://www.apache.org/licenses/LICENSE-2.0\n",
        "#\n",
        "# Unless required by applicable law or agreed to in writing, software\n",
        "# distributed under the License is distributed on an \"AS IS\" BASIS,\n",
        "# WITHOUT WARRANTIES OR CONDITIONS OF ANY KIND, either express or implied.\n",
        "# See the License for the specific language governing permissions and\n",
        "# limitations under the License."
      ],
      "execution_count": 1,
      "outputs": []
    },
    {
      "cell_type": "code",
      "metadata": {
        "id": "P-AhVYeBWgQ3",
        "colab": {
          "base_uri": "https://localhost:8080/"
        },
        "outputId": "c252d1ff-0f62-4ba3-a94d-d2db707f93d5"
      },
      "source": [
        "import tensorflow as tf\n",
        "print(tf.__version__)\n",
        "\n",
        "# !pip install -q tensorflow-datasets"
      ],
      "execution_count": 2,
      "outputs": [
        {
          "output_type": "stream",
          "text": [
            "2.3.0\n"
          ],
          "name": "stdout"
        }
      ]
    },
    {
      "cell_type": "code",
      "metadata": {
        "id": "_IoM4VFxWpMR",
        "colab": {
          "base_uri": "https://localhost:8080/",
          "height": 367,
          "referenced_widgets": [
            "3d4702a53bd644fdbfe3a9e37b4382d2",
            "a815780c760a4a0f8f455faf0a12300f",
            "d99bc644365f40489a69c00893d5845a",
            "cc9ea0ac004e42e7b11e84f91a8bd0f6",
            "aab994119e4a4c8ea62e20d5326186ff",
            "11aa0a0ec14047fa9e00f7856d000d99",
            "45cd04a4b91d4f8ca291e068f4f621ff",
            "d0802102231b4f338d9e5e2170a8fda1",
            "d069e0b8d83448bebff4192e24e1006f",
            "9abfb6fa6e87440381d25d2cbc4abbb2",
            "a781ac13f3f84bf78b1f68721fc0d990",
            "9a121b1a57e342c395611fd09c935b87",
            "259b34eadc71445d95eb9d11b6301038",
            "1a0b8876ab314e6d94ab6b1592822e56",
            "24914dd175c74d8c9c2a69f039a50d4b",
            "be665e861d854ec394ec905b44bb784c",
            "4db08e93da6e4411afdcb7eb9cdbdea5",
            "43c7501b66dc461ab9f059549bf3660f",
            "f6efd362cf3b4989a455b28aa2f80c27",
            "e5184652efeb4b5dad04acfca219e642",
            "6b0be1eda9ce4191bf3d73bdf4a77635",
            "2544b6d77d6846dc972375e5e50cc241",
            "68e0ad3bff2e48eabe2f221cc4ea4454",
            "3af473b7a56e45f6be548caa3e4b37a5",
            "aae619170c87474d969c6b581b6a7189",
            "2d18b89a60354776a06f0588641153e0",
            "0a2d4543fc714262904d5e4dfc9af9cf",
            "7a1e33d8c41640e18031fe8d17a1abff",
            "252d4f7028ef43d3a982d2d8574063d8",
            "c1943c69b922465e9ec6b1598e5277d1",
            "35aa78f009e140e49a9af88ea6dffd7c",
            "8a897e719b2a485d8c147e1f54e3e835",
            "9a827dbe33ca4afb8c6f909ae51fcd9a",
            "e77052cda79e45499e076677e9eb112a",
            "e6ccb2047ef8432387eee80d9512f1ad",
            "d3f9d1f988aa4f1db0df517817f15351",
            "6829fed82bfd432898e9dfbfeb0728af",
            "375c861f3c704966b4310e4efb76f5b1",
            "60532897ba464ecf931b0bf23a387bda",
            "d6b30fed530c4f09a57d8bf5f6598714",
            "b849d53729af4731a0e6e29427448f9f",
            "3c99ac7804114b3aa0fe29e432d0338f",
            "63073ffb77cf46519f777023884f249f",
            "2e4cc8039cc54348ab621b955ab5d5f0",
            "a27a23d1c36e41bcb02007856c88c0c9",
            "e5574f45e08d4e51aa3931397601ff5f",
            "a333fc0cc87e4a11b068d230ee5c3790",
            "2adf63568dbb41eeae5ad3424d297957",
            "46dbf3ee62b343d381f3af8ca10e6cb1",
            "8368e785d0e4451597e8d5b38f3384d2",
            "c4aa0e8323c4483ab6d74b123069d6c1",
            "28aa156e04df4fb495b7d68395c52e83",
            "a4e63e87a501413596ce2a2ed6ff93ae",
            "0549b159697940fdb9eae74d864bdbd4",
            "aaee9a1c05704b0c9c3891b110d1cf05",
            "0a8c7104c4d74eeba2dd300125092d29",
            "83d64a3ee30f4b7096c8a971e89b4480",
            "5a266a163b9a4282a33950c33b993ca6",
            "54467392556343a0a01c419093d2f39e",
            "7dbbf08009c343548a0ffbe9a4e2eeb4",
            "a8d1d9710c9a444cbe088f103725ace2",
            "9daa513490944468a926077d52d94daa",
            "f644d1cf31504670a4e488141d567584",
            "40fcc828f7e044629b3ba4a3d1ec9e4a"
          ]
        },
        "outputId": "05b547f1-ae76-4557-8c73-dfd89ac891b2"
      },
      "source": [
        "import tensorflow_datasets as tfds\n",
        "imdb, info = tfds.load(\"imdb_reviews\", with_info=True, as_supervised=True)\n"
      ],
      "execution_count": 3,
      "outputs": [
        {
          "output_type": "stream",
          "text": [
            "\u001b[1mDownloading and preparing dataset imdb_reviews/plain_text/1.0.0 (download: 80.23 MiB, generated: Unknown size, total: 80.23 MiB) to /root/tensorflow_datasets/imdb_reviews/plain_text/1.0.0...\u001b[0m\n"
          ],
          "name": "stdout"
        },
        {
          "output_type": "display_data",
          "data": {
            "application/vnd.jupyter.widget-view+json": {
              "model_id": "3d4702a53bd644fdbfe3a9e37b4382d2",
              "version_minor": 0,
              "version_major": 2
            },
            "text/plain": [
              "HBox(children=(FloatProgress(value=1.0, bar_style='info', description='Dl Completed...', max=1.0, style=Progre…"
            ]
          },
          "metadata": {
            "tags": []
          }
        },
        {
          "output_type": "display_data",
          "data": {
            "application/vnd.jupyter.widget-view+json": {
              "model_id": "d069e0b8d83448bebff4192e24e1006f",
              "version_minor": 0,
              "version_major": 2
            },
            "text/plain": [
              "HBox(children=(FloatProgress(value=1.0, bar_style='info', description='Dl Size...', max=1.0, style=ProgressSty…"
            ]
          },
          "metadata": {
            "tags": []
          }
        },
        {
          "output_type": "stream",
          "text": [
            "\n",
            "\n",
            "\n",
            "\n"
          ],
          "name": "stdout"
        },
        {
          "output_type": "display_data",
          "data": {
            "application/vnd.jupyter.widget-view+json": {
              "model_id": "4db08e93da6e4411afdcb7eb9cdbdea5",
              "version_minor": 0,
              "version_major": 2
            },
            "text/plain": [
              "HBox(children=(FloatProgress(value=1.0, bar_style='info', max=1.0), HTML(value='')))"
            ]
          },
          "metadata": {
            "tags": []
          }
        },
        {
          "output_type": "stream",
          "text": [
            "\rShuffling and writing examples to /root/tensorflow_datasets/imdb_reviews/plain_text/1.0.0.incompleteLIFYO0/imdb_reviews-train.tfrecord\n"
          ],
          "name": "stdout"
        },
        {
          "output_type": "display_data",
          "data": {
            "application/vnd.jupyter.widget-view+json": {
              "model_id": "aae619170c87474d969c6b581b6a7189",
              "version_minor": 0,
              "version_major": 2
            },
            "text/plain": [
              "HBox(children=(FloatProgress(value=0.0, max=25000.0), HTML(value='')))"
            ]
          },
          "metadata": {
            "tags": []
          }
        },
        {
          "output_type": "stream",
          "text": [
            "\r"
          ],
          "name": "stdout"
        },
        {
          "output_type": "display_data",
          "data": {
            "application/vnd.jupyter.widget-view+json": {
              "model_id": "9a827dbe33ca4afb8c6f909ae51fcd9a",
              "version_minor": 0,
              "version_major": 2
            },
            "text/plain": [
              "HBox(children=(FloatProgress(value=1.0, bar_style='info', max=1.0), HTML(value='')))"
            ]
          },
          "metadata": {
            "tags": []
          }
        },
        {
          "output_type": "stream",
          "text": [
            "\rShuffling and writing examples to /root/tensorflow_datasets/imdb_reviews/plain_text/1.0.0.incompleteLIFYO0/imdb_reviews-test.tfrecord\n"
          ],
          "name": "stdout"
        },
        {
          "output_type": "display_data",
          "data": {
            "application/vnd.jupyter.widget-view+json": {
              "model_id": "b849d53729af4731a0e6e29427448f9f",
              "version_minor": 0,
              "version_major": 2
            },
            "text/plain": [
              "HBox(children=(FloatProgress(value=0.0, max=25000.0), HTML(value='')))"
            ]
          },
          "metadata": {
            "tags": []
          }
        },
        {
          "output_type": "stream",
          "text": [
            "\r"
          ],
          "name": "stdout"
        },
        {
          "output_type": "display_data",
          "data": {
            "application/vnd.jupyter.widget-view+json": {
              "model_id": "46dbf3ee62b343d381f3af8ca10e6cb1",
              "version_minor": 0,
              "version_major": 2
            },
            "text/plain": [
              "HBox(children=(FloatProgress(value=1.0, bar_style='info', max=1.0), HTML(value='')))"
            ]
          },
          "metadata": {
            "tags": []
          }
        },
        {
          "output_type": "stream",
          "text": [
            "\rShuffling and writing examples to /root/tensorflow_datasets/imdb_reviews/plain_text/1.0.0.incompleteLIFYO0/imdb_reviews-unsupervised.tfrecord\n"
          ],
          "name": "stdout"
        },
        {
          "output_type": "display_data",
          "data": {
            "application/vnd.jupyter.widget-view+json": {
              "model_id": "83d64a3ee30f4b7096c8a971e89b4480",
              "version_minor": 0,
              "version_major": 2
            },
            "text/plain": [
              "HBox(children=(FloatProgress(value=0.0, max=50000.0), HTML(value='')))"
            ]
          },
          "metadata": {
            "tags": []
          }
        },
        {
          "output_type": "stream",
          "text": [
            "WARNING:absl:Dataset is using deprecated text encoder API which will be removed soon. Please use the plain_text version of the dataset and migrate to `tensorflow_text`.\n"
          ],
          "name": "stderr"
        },
        {
          "output_type": "stream",
          "text": [
            "\u001b[1mDataset imdb_reviews downloaded and prepared to /root/tensorflow_datasets/imdb_reviews/plain_text/1.0.0. Subsequent calls will reuse this data.\u001b[0m\n"
          ],
          "name": "stdout"
        }
      ]
    },
    {
      "cell_type": "code",
      "metadata": {
        "id": "wHQ2Ko0zl7M4"
      },
      "source": [
        "import numpy as np\n",
        "\n",
        "train_data, test_data = imdb['train'], imdb['test']\n",
        "\n",
        "training_sentences = []\n",
        "training_labels = []\n",
        "\n",
        "testing_sentences = []\n",
        "testing_labels = []\n",
        "\n",
        "# str(s.tonumpy()) is needed in Python3 instead of just s.numpy()\n",
        "for s,l in train_data:\n",
        "  training_sentences.append(str(s.numpy()))\n",
        "  training_labels.append(l.numpy())\n",
        "  \n",
        "for s,l in test_data:\n",
        "  testing_sentences.append(str(s.numpy()))\n",
        "  testing_labels.append(l.numpy())\n",
        "  \n",
        "training_labels_final = np.array(training_labels)\n",
        "testing_labels_final = np.array(testing_labels)\n"
      ],
      "execution_count": 4,
      "outputs": []
    },
    {
      "cell_type": "code",
      "metadata": {
        "id": "7n15yyMdmoH1"
      },
      "source": [
        "vocab_size = 10000\n",
        "embedding_dim = 16\n",
        "max_length = 120\n",
        "trunc_type='post'\n",
        "oov_tok = \"<OOV>\"\n",
        "\n",
        "\n",
        "from tensorflow.keras.preprocessing.text import Tokenizer\n",
        "from tensorflow.keras.preprocessing.sequence import pad_sequences\n",
        "\n",
        "tokenizer = Tokenizer(num_words = vocab_size, oov_token=oov_tok)\n",
        "tokenizer.fit_on_texts(training_sentences)\n",
        "word_index = tokenizer.word_index\n",
        "sequences = tokenizer.texts_to_sequences(training_sentences)\n",
        "padded = pad_sequences(sequences,maxlen=max_length, truncating=trunc_type)\n",
        "\n",
        "testing_sequences = tokenizer.texts_to_sequences(testing_sentences)\n",
        "testing_padded = pad_sequences(testing_sequences,maxlen=max_length)\n"
      ],
      "execution_count": 5,
      "outputs": []
    },
    {
      "cell_type": "code",
      "metadata": {
        "id": "9axf0uIXVMhO",
        "colab": {
          "base_uri": "https://localhost:8080/"
        },
        "outputId": "9f4a10e6-63dd-49c7-ef39-979a33c17cc0"
      },
      "source": [
        "reverse_word_index = dict([(value, key) for (key, value) in word_index.items()])\n",
        "\n",
        "def decode_review(text):\n",
        "    return ' '.join([reverse_word_index.get(i, '?') for i in text])\n",
        "\n",
        "print(decode_review(padded[1]))\n",
        "print(training_sentences[1])"
      ],
      "execution_count": 6,
      "outputs": [
        {
          "output_type": "stream",
          "text": [
            "? ? ? ? ? ? ? b'i have been known to fall asleep during films but this is usually due to a combination of things including really tired being warm and comfortable on the <OOV> and having just eaten a lot however on this occasion i fell asleep because the film was rubbish the plot development was constant constantly slow and boring things seemed to happen but with no explanation of what was causing them or why i admit i may have missed part of the film but i watched the majority of it and everything just seemed to happen of its own <OOV> without any real concern for anything else i cant recommend this film at all '\n",
            "b'I have been known to fall asleep during films, but this is usually due to a combination of things including, really tired, being warm and comfortable on the sette and having just eaten a lot. However on this occasion I fell asleep because the film was rubbish. The plot development was constant. Constantly slow and boring. Things seemed to happen, but with no explanation of what was causing them or why. I admit, I may have missed part of the film, but i watched the majority of it and everything just seemed to happen of its own accord without any real concern for anything else. I cant recommend this film at all.'\n"
          ],
          "name": "stdout"
        }
      ]
    },
    {
      "cell_type": "markdown",
      "metadata": {
        "id": "xeFbPijz_mZp"
      },
      "source": [
        "# Using GRU"
      ]
    },
    {
      "cell_type": "code",
      "metadata": {
        "id": "5NEpdhb8AxID",
        "colab": {
          "base_uri": "https://localhost:8080/"
        },
        "outputId": "310eb039-418b-483d-e99d-dfac53fd6308"
      },
      "source": [
        "model1 = tf.keras.Sequential([\n",
        "    tf.keras.layers.Embedding(vocab_size, embedding_dim, input_length=max_length),\n",
        "    tf.keras.layers.Bidirectional(tf.keras.layers.GRU(32)),\n",
        "    tf.keras.layers.Dense(6, activation='relu'),\n",
        "    tf.keras.layers.Dense(1, activation='sigmoid')\n",
        "])\n",
        "model1.compile(loss='binary_crossentropy',optimizer='adam',metrics=['accuracy'])\n",
        "model1.summary()\n"
      ],
      "execution_count": 7,
      "outputs": [
        {
          "output_type": "stream",
          "text": [
            "Model: \"sequential\"\n",
            "_________________________________________________________________\n",
            "Layer (type)                 Output Shape              Param #   \n",
            "=================================================================\n",
            "embedding (Embedding)        (None, 120, 16)           160000    \n",
            "_________________________________________________________________\n",
            "bidirectional (Bidirectional (None, 64)                9600      \n",
            "_________________________________________________________________\n",
            "dense (Dense)                (None, 6)                 390       \n",
            "_________________________________________________________________\n",
            "dense_1 (Dense)              (None, 1)                 7         \n",
            "=================================================================\n",
            "Total params: 169,997\n",
            "Trainable params: 169,997\n",
            "Non-trainable params: 0\n",
            "_________________________________________________________________\n"
          ],
          "name": "stdout"
        }
      ]
    },
    {
      "cell_type": "code",
      "metadata": {
        "id": "V5LLrXC-uNX6",
        "colab": {
          "base_uri": "https://localhost:8080/"
        },
        "outputId": "d16ae78e-5671-4295-cb7a-adca65aa9046"
      },
      "source": [
        "num_epochs = 50\n",
        "history1 = model1.fit(padded, training_labels_final, epochs=num_epochs, validation_data=(testing_padded, testing_labels_final))"
      ],
      "execution_count": 9,
      "outputs": [
        {
          "output_type": "stream",
          "text": [
            "Epoch 1/50\n",
            "782/782 [==============================] - 18s 23ms/step - loss: 0.5130 - accuracy: 0.7188 - val_loss: 0.3675 - val_accuracy: 0.8403\n",
            "Epoch 2/50\n",
            "782/782 [==============================] - 17s 22ms/step - loss: 0.3041 - accuracy: 0.8766 - val_loss: 0.3594 - val_accuracy: 0.8464\n",
            "Epoch 3/50\n",
            "782/782 [==============================] - 17s 22ms/step - loss: 0.2330 - accuracy: 0.9099 - val_loss: 0.3828 - val_accuracy: 0.8368\n",
            "Epoch 4/50\n",
            "782/782 [==============================] - 17s 22ms/step - loss: 0.1764 - accuracy: 0.9355 - val_loss: 0.4377 - val_accuracy: 0.8260\n",
            "Epoch 5/50\n",
            "782/782 [==============================] - 17s 22ms/step - loss: 0.1290 - accuracy: 0.9547 - val_loss: 0.4954 - val_accuracy: 0.8320\n",
            "Epoch 6/50\n",
            "782/782 [==============================] - 17s 22ms/step - loss: 0.0845 - accuracy: 0.9713 - val_loss: 0.5417 - val_accuracy: 0.8180\n",
            "Epoch 7/50\n",
            "782/782 [==============================] - 17s 22ms/step - loss: 0.0578 - accuracy: 0.9812 - val_loss: 0.7271 - val_accuracy: 0.8198\n",
            "Epoch 8/50\n",
            "782/782 [==============================] - 17s 22ms/step - loss: 0.0389 - accuracy: 0.9880 - val_loss: 0.8774 - val_accuracy: 0.8200\n",
            "Epoch 9/50\n",
            "782/782 [==============================] - 17s 22ms/step - loss: 0.0272 - accuracy: 0.9912 - val_loss: 0.9603 - val_accuracy: 0.8038\n",
            "Epoch 10/50\n",
            "782/782 [==============================] - 17s 22ms/step - loss: 0.0224 - accuracy: 0.9926 - val_loss: 0.9678 - val_accuracy: 0.8196\n",
            "Epoch 11/50\n",
            "782/782 [==============================] - 18s 23ms/step - loss: 0.0219 - accuracy: 0.9931 - val_loss: 0.9524 - val_accuracy: 0.8084\n",
            "Epoch 12/50\n",
            "782/782 [==============================] - 17s 22ms/step - loss: 0.0132 - accuracy: 0.9958 - val_loss: 1.0111 - val_accuracy: 0.8132\n",
            "Epoch 13/50\n",
            "782/782 [==============================] - 17s 22ms/step - loss: 0.0126 - accuracy: 0.9958 - val_loss: 0.9909 - val_accuracy: 0.8135\n",
            "Epoch 14/50\n",
            "782/782 [==============================] - 17s 22ms/step - loss: 0.0129 - accuracy: 0.9962 - val_loss: 1.0323 - val_accuracy: 0.8073\n",
            "Epoch 15/50\n",
            "782/782 [==============================] - 17s 22ms/step - loss: 0.0104 - accuracy: 0.9965 - val_loss: 1.1071 - val_accuracy: 0.8131\n",
            "Epoch 16/50\n",
            "782/782 [==============================] - 17s 22ms/step - loss: 0.0101 - accuracy: 0.9965 - val_loss: 1.2821 - val_accuracy: 0.8050\n",
            "Epoch 17/50\n",
            "782/782 [==============================] - 17s 22ms/step - loss: 0.0072 - accuracy: 0.9978 - val_loss: 1.2877 - val_accuracy: 0.8118\n",
            "Epoch 18/50\n",
            "782/782 [==============================] - 17s 22ms/step - loss: 0.0043 - accuracy: 0.9989 - val_loss: 1.2463 - val_accuracy: 0.8070\n",
            "Epoch 19/50\n",
            "782/782 [==============================] - 17s 22ms/step - loss: 0.0082 - accuracy: 0.9973 - val_loss: 1.2838 - val_accuracy: 0.8104\n",
            "Epoch 20/50\n",
            "782/782 [==============================] - 17s 22ms/step - loss: 0.0052 - accuracy: 0.9984 - val_loss: 1.2642 - val_accuracy: 0.8094\n",
            "Epoch 21/50\n",
            "782/782 [==============================] - 17s 22ms/step - loss: 0.0029 - accuracy: 0.9989 - val_loss: 1.4222 - val_accuracy: 0.8130\n",
            "Epoch 22/50\n",
            "782/782 [==============================] - 17s 22ms/step - loss: 0.0082 - accuracy: 0.9968 - val_loss: 1.3717 - val_accuracy: 0.8082\n",
            "Epoch 23/50\n",
            "782/782 [==============================] - 17s 22ms/step - loss: 0.0073 - accuracy: 0.9976 - val_loss: 1.3552 - val_accuracy: 0.8062\n",
            "Epoch 24/50\n",
            "782/782 [==============================] - 17s 22ms/step - loss: 0.0052 - accuracy: 0.9980 - val_loss: 1.3867 - val_accuracy: 0.8097\n",
            "Epoch 25/50\n",
            "782/782 [==============================] - 17s 22ms/step - loss: 0.0033 - accuracy: 0.9991 - val_loss: 1.4286 - val_accuracy: 0.8136\n",
            "Epoch 26/50\n",
            "782/782 [==============================] - 17s 22ms/step - loss: 0.0014 - accuracy: 0.9997 - val_loss: 1.5375 - val_accuracy: 0.8054\n",
            "Epoch 27/50\n",
            "782/782 [==============================] - 17s 22ms/step - loss: 1.6036e-04 - accuracy: 1.0000 - val_loss: 1.5946 - val_accuracy: 0.8145\n",
            "Epoch 28/50\n",
            "782/782 [==============================] - 17s 22ms/step - loss: 2.6948e-05 - accuracy: 1.0000 - val_loss: 1.6473 - val_accuracy: 0.8149\n",
            "Epoch 29/50\n",
            "782/782 [==============================] - 18s 23ms/step - loss: 1.6265e-05 - accuracy: 1.0000 - val_loss: 1.7013 - val_accuracy: 0.8154\n",
            "Epoch 30/50\n",
            "782/782 [==============================] - 17s 22ms/step - loss: 1.0968e-05 - accuracy: 1.0000 - val_loss: 1.7565 - val_accuracy: 0.8156\n",
            "Epoch 31/50\n",
            "782/782 [==============================] - 17s 22ms/step - loss: 7.5522e-06 - accuracy: 1.0000 - val_loss: 1.8116 - val_accuracy: 0.8154\n",
            "Epoch 32/50\n",
            "782/782 [==============================] - 17s 22ms/step - loss: 5.1733e-06 - accuracy: 1.0000 - val_loss: 1.8686 - val_accuracy: 0.8155\n",
            "Epoch 33/50\n",
            "782/782 [==============================] - 18s 23ms/step - loss: 3.5043e-06 - accuracy: 1.0000 - val_loss: 1.9296 - val_accuracy: 0.8154\n",
            "Epoch 34/50\n",
            "782/782 [==============================] - 17s 22ms/step - loss: 2.3791e-06 - accuracy: 1.0000 - val_loss: 1.9870 - val_accuracy: 0.8154\n",
            "Epoch 35/50\n",
            "782/782 [==============================] - 17s 22ms/step - loss: 1.5937e-06 - accuracy: 1.0000 - val_loss: 2.0470 - val_accuracy: 0.8152\n",
            "Epoch 36/50\n",
            "782/782 [==============================] - 17s 22ms/step - loss: 1.0668e-06 - accuracy: 1.0000 - val_loss: 2.1120 - val_accuracy: 0.8153\n",
            "Epoch 37/50\n",
            "782/782 [==============================] - 17s 22ms/step - loss: 7.0847e-07 - accuracy: 1.0000 - val_loss: 2.1767 - val_accuracy: 0.8153\n",
            "Epoch 38/50\n",
            "782/782 [==============================] - 17s 22ms/step - loss: 4.7058e-07 - accuracy: 1.0000 - val_loss: 2.2407 - val_accuracy: 0.8156\n",
            "Epoch 39/50\n",
            "782/782 [==============================] - 17s 22ms/step - loss: 3.1078e-07 - accuracy: 1.0000 - val_loss: 2.3022 - val_accuracy: 0.8151\n",
            "Epoch 40/50\n",
            "782/782 [==============================] - 17s 22ms/step - loss: 2.0572e-07 - accuracy: 1.0000 - val_loss: 2.3686 - val_accuracy: 0.8156\n",
            "Epoch 41/50\n",
            "782/782 [==============================] - 17s 22ms/step - loss: 1.3680e-07 - accuracy: 1.0000 - val_loss: 2.4333 - val_accuracy: 0.8156\n",
            "Epoch 42/50\n",
            "782/782 [==============================] - 17s 22ms/step - loss: 9.0806e-08 - accuracy: 1.0000 - val_loss: 2.4973 - val_accuracy: 0.8152\n",
            "Epoch 43/50\n",
            "782/782 [==============================] - 17s 22ms/step - loss: 6.0629e-08 - accuracy: 1.0000 - val_loss: 2.5639 - val_accuracy: 0.8158\n",
            "Epoch 44/50\n",
            "782/782 [==============================] - 17s 22ms/step - loss: 4.0811e-08 - accuracy: 1.0000 - val_loss: 2.6278 - val_accuracy: 0.8159\n",
            "Epoch 45/50\n",
            "782/782 [==============================] - 17s 22ms/step - loss: 2.7601e-08 - accuracy: 1.0000 - val_loss: 2.6933 - val_accuracy: 0.8162\n",
            "Epoch 46/50\n",
            "782/782 [==============================] - 17s 22ms/step - loss: 1.8874e-08 - accuracy: 1.0000 - val_loss: 2.7502 - val_accuracy: 0.8159\n",
            "Epoch 47/50\n",
            "782/782 [==============================] - 18s 23ms/step - loss: 1.3068e-08 - accuracy: 1.0000 - val_loss: 2.8110 - val_accuracy: 0.8164\n",
            "Epoch 48/50\n",
            "782/782 [==============================] - 17s 22ms/step - loss: 9.1784e-09 - accuracy: 1.0000 - val_loss: 2.8647 - val_accuracy: 0.8161\n",
            "Epoch 49/50\n",
            "782/782 [==============================] - 17s 22ms/step - loss: 6.5102e-09 - accuracy: 1.0000 - val_loss: 2.9220 - val_accuracy: 0.8162\n",
            "Epoch 50/50\n",
            "782/782 [==============================] - 17s 22ms/step - loss: 4.7160e-09 - accuracy: 1.0000 - val_loss: 2.9757 - val_accuracy: 0.8164\n"
          ],
          "name": "stdout"
        }
      ]
    },
    {
      "cell_type": "code",
      "metadata": {
        "colab": {
          "base_uri": "https://localhost:8080/",
          "height": 214
        },
        "id": "TzluaUCM--HE",
        "outputId": "ddbd8e08-45d2-47a2-cc3d-736a72f9e026"
      },
      "source": [
        "import matplotlib.pyplot as plt\n",
        "\n",
        "\n",
        "def plot_graphs(history, string):\n",
        "  plt.plot(history.history[string])\n",
        "  plt.plot(history.history['val_'+string])\n",
        "  plt.xlabel(\"Epochs\")\n",
        "  plt.ylabel(string)\n",
        "  plt.legend([string, 'val_'+string])\n",
        "  plt.show()\n",
        "\n",
        "plot_graphs(history, 'accuracy')\n",
        "plot_graphs(history, 'loss')"
      ],
      "execution_count": 10,
      "outputs": [
        {
          "output_type": "error",
          "ename": "NameError",
          "evalue": "ignored",
          "traceback": [
            "\u001b[0;31m---------------------------------------------------------------------------\u001b[0m",
            "\u001b[0;31mNameError\u001b[0m                                 Traceback (most recent call last)",
            "\u001b[0;32m<ipython-input-10-8b303ca387ec>\u001b[0m in \u001b[0;36m<module>\u001b[0;34m()\u001b[0m\n\u001b[1;32m     10\u001b[0m   \u001b[0mplt\u001b[0m\u001b[0;34m.\u001b[0m\u001b[0mshow\u001b[0m\u001b[0;34m(\u001b[0m\u001b[0;34m)\u001b[0m\u001b[0;34m\u001b[0m\u001b[0;34m\u001b[0m\u001b[0m\n\u001b[1;32m     11\u001b[0m \u001b[0;34m\u001b[0m\u001b[0m\n\u001b[0;32m---> 12\u001b[0;31m \u001b[0mplot_graphs\u001b[0m\u001b[0;34m(\u001b[0m\u001b[0mhistory\u001b[0m\u001b[0;34m,\u001b[0m \u001b[0;34m'accuracy'\u001b[0m\u001b[0;34m)\u001b[0m\u001b[0;34m\u001b[0m\u001b[0;34m\u001b[0m\u001b[0m\n\u001b[0m\u001b[1;32m     13\u001b[0m \u001b[0mplot_graphs\u001b[0m\u001b[0;34m(\u001b[0m\u001b[0mhistory\u001b[0m\u001b[0;34m,\u001b[0m \u001b[0;34m'loss'\u001b[0m\u001b[0;34m)\u001b[0m\u001b[0;34m\u001b[0m\u001b[0;34m\u001b[0m\u001b[0m\n",
            "\u001b[0;31mNameError\u001b[0m: name 'history' is not defined"
          ]
        }
      ]
    },
    {
      "cell_type": "code",
      "metadata": {
        "colab": {
          "base_uri": "https://localhost:8080/",
          "height": 279
        },
        "id": "BseRMW9t-3yV",
        "outputId": "9eae2b67-453c-4625-ee52-c69b0774f031"
      },
      "source": [
        "plot_graphs(history1, 'accuracy')"
      ],
      "execution_count": 11,
      "outputs": [
        {
          "output_type": "display_data",
          "data": {
            "image/png": "[encoded data removed]",
            "text/plain": [
              "<Figure size 432x288 with 1 Axes>"
            ]
          },
          "metadata": {
            "tags": [],
            "needs_background": "light"
          }
        }
      ]
    },
    {
      "cell_type": "code",
      "metadata": {
        "colab": {
          "base_uri": "https://localhost:8080/",
          "height": 279
        },
        "id": "Agymf1mr-51c",
        "outputId": "58b818f8-c5e9-4f98-8446-59d7365d96d2"
      },
      "source": [
        "plot_graphs(history1, 'loss')"
      ],
      "execution_count": 12,
      "outputs": [
        {
          "output_type": "display_data",
          "data": {
            "image/png": "[encoded data removed]",
            "text/plain": [
              "<Figure size 432x288 with 1 Axes>"
            ]
          },
          "metadata": {
            "tags": [],
            "needs_background": "light"
          }
        }
      ]
    },
    {
      "cell_type": "markdown",
      "metadata": {
        "id": "PTE1zQv0_p3a"
      },
      "source": [
        "# Using LSTM"
      ]
    },
    {
      "cell_type": "code",
      "metadata": {
        "id": "wSualgGPPK0S",
        "colab": {
          "base_uri": "https://localhost:8080/"
        },
        "outputId": "7df67780-37f6-4280-f8ef-000c38b1ec25"
      },
      "source": [
        "# Model Definition with LSTM\n",
        "model2 = tf.keras.Sequential([\n",
        "    tf.keras.layers.Embedding(vocab_size, embedding_dim, input_length=max_length),\n",
        "    tf.keras.layers.Bidirectional(tf.keras.layers.LSTM(32)),\n",
        "    tf.keras.layers.Dense(6, activation='relu'),\n",
        "    tf.keras.layers.Dense(1, activation='sigmoid')\n",
        "])\n",
        "model2.compile(loss='binary_crossentropy',optimizer='adam',metrics=['accuracy'])\n",
        "model2.summary()\n"
      ],
      "execution_count": 13,
      "outputs": [
        {
          "output_type": "stream",
          "text": [
            "Model: \"sequential_1\"\n",
            "_________________________________________________________________\n",
            "Layer (type)                 Output Shape              Param #   \n",
            "=================================================================\n",
            "embedding_1 (Embedding)      (None, 120, 16)           160000    \n",
            "_________________________________________________________________\n",
            "bidirectional_1 (Bidirection (None, 64)                12544     \n",
            "_________________________________________________________________\n",
            "dense_2 (Dense)              (None, 6)                 390       \n",
            "_________________________________________________________________\n",
            "dense_3 (Dense)              (None, 1)                 7         \n",
            "=================================================================\n",
            "Total params: 172,941\n",
            "Trainable params: 172,941\n",
            "Non-trainable params: 0\n",
            "_________________________________________________________________\n"
          ],
          "name": "stdout"
        }
      ]
    },
    {
      "cell_type": "code",
      "metadata": {
        "colab": {
          "base_uri": "https://localhost:8080/"
        },
        "id": "RHhWSjvM_Chs",
        "outputId": "39692106-b396-4ef8-dd5d-8cb8839f4abb"
      },
      "source": [
        "num_epochs = 50\n",
        "history2 = model2.fit(padded, training_labels_final, epochs=num_epochs, validation_data=(testing_padded, testing_labels_final))"
      ],
      "execution_count": 14,
      "outputs": [
        {
          "output_type": "stream",
          "text": [
            "Epoch 1/50\n",
            "782/782 [==============================] - 18s 23ms/step - loss: 0.4863 - accuracy: 0.7542 - val_loss: 0.3799 - val_accuracy: 0.8370\n",
            "Epoch 2/50\n",
            "782/782 [==============================] - 17s 22ms/step - loss: 0.3057 - accuracy: 0.8794 - val_loss: 0.3657 - val_accuracy: 0.8404\n",
            "Epoch 3/50\n",
            "782/782 [==============================] - 17s 22ms/step - loss: 0.2488 - accuracy: 0.9057 - val_loss: 0.3837 - val_accuracy: 0.8326\n",
            "Epoch 4/50\n",
            "782/782 [==============================] - 17s 22ms/step - loss: 0.2131 - accuracy: 0.9216 - val_loss: 0.4145 - val_accuracy: 0.8335\n",
            "Epoch 5/50\n",
            "782/782 [==============================] - 18s 23ms/step - loss: 0.1642 - accuracy: 0.9421 - val_loss: 0.4527 - val_accuracy: 0.8305\n",
            "Epoch 6/50\n",
            "782/782 [==============================] - 18s 22ms/step - loss: 0.1265 - accuracy: 0.9584 - val_loss: 0.4963 - val_accuracy: 0.8256\n",
            "Epoch 7/50\n",
            "782/782 [==============================] - 18s 23ms/step - loss: 0.0981 - accuracy: 0.9692 - val_loss: 0.5470 - val_accuracy: 0.8188\n",
            "Epoch 8/50\n",
            "782/782 [==============================] - 18s 23ms/step - loss: 0.0768 - accuracy: 0.9746 - val_loss: 0.6652 - val_accuracy: 0.8176\n",
            "Epoch 9/50\n",
            "782/782 [==============================] - 18s 23ms/step - loss: 0.0627 - accuracy: 0.9806 - val_loss: 0.6695 - val_accuracy: 0.8162\n",
            "Epoch 10/50\n",
            "782/782 [==============================] - 18s 23ms/step - loss: 0.0509 - accuracy: 0.9852 - val_loss: 0.7431 - val_accuracy: 0.8074\n",
            "Epoch 11/50\n",
            "782/782 [==============================] - 18s 23ms/step - loss: 0.0410 - accuracy: 0.9871 - val_loss: 0.8257 - val_accuracy: 0.8178\n",
            "Epoch 12/50\n",
            "782/782 [==============================] - 18s 22ms/step - loss: 0.0317 - accuracy: 0.9903 - val_loss: 0.7963 - val_accuracy: 0.8031\n",
            "Epoch 13/50\n",
            "782/782 [==============================] - 18s 22ms/step - loss: 0.0350 - accuracy: 0.9890 - val_loss: 0.8193 - val_accuracy: 0.8053\n",
            "Epoch 14/50\n",
            "782/782 [==============================] - 18s 24ms/step - loss: 0.0290 - accuracy: 0.9912 - val_loss: 0.9173 - val_accuracy: 0.7990\n",
            "Epoch 15/50\n",
            "782/782 [==============================] - 18s 23ms/step - loss: 0.0219 - accuracy: 0.9934 - val_loss: 0.8703 - val_accuracy: 0.8066\n",
            "Epoch 16/50\n",
            "782/782 [==============================] - 18s 22ms/step - loss: 0.0167 - accuracy: 0.9948 - val_loss: 0.9459 - val_accuracy: 0.7913\n",
            "Epoch 17/50\n",
            "782/782 [==============================] - 18s 22ms/step - loss: 0.0175 - accuracy: 0.9944 - val_loss: 1.0283 - val_accuracy: 0.8036\n",
            "Epoch 18/50\n",
            "782/782 [==============================] - 18s 23ms/step - loss: 0.0526 - accuracy: 0.9825 - val_loss: 0.8522 - val_accuracy: 0.7946\n",
            "Epoch 19/50\n",
            "782/782 [==============================] - 18s 22ms/step - loss: 0.0172 - accuracy: 0.9949 - val_loss: 1.0119 - val_accuracy: 0.8024\n",
            "Epoch 20/50\n",
            "782/782 [==============================] - 18s 23ms/step - loss: 0.0059 - accuracy: 0.9984 - val_loss: 1.1365 - val_accuracy: 0.7956\n",
            "Epoch 21/50\n",
            "782/782 [==============================] - 18s 23ms/step - loss: 0.0078 - accuracy: 0.9977 - val_loss: 1.1091 - val_accuracy: 0.7998\n",
            "Epoch 22/50\n",
            "782/782 [==============================] - 18s 22ms/step - loss: 0.0138 - accuracy: 0.9956 - val_loss: 1.0787 - val_accuracy: 0.8048\n",
            "Epoch 23/50\n",
            "782/782 [==============================] - 18s 22ms/step - loss: 0.0131 - accuracy: 0.9959 - val_loss: 1.0979 - val_accuracy: 0.7988\n",
            "Epoch 24/50\n",
            "782/782 [==============================] - 18s 23ms/step - loss: 0.0123 - accuracy: 0.9961 - val_loss: 1.0915 - val_accuracy: 0.8059\n",
            "Epoch 25/50\n",
            "782/782 [==============================] - 18s 23ms/step - loss: 0.0125 - accuracy: 0.9962 - val_loss: 1.0768 - val_accuracy: 0.7920\n",
            "Epoch 26/50\n",
            "782/782 [==============================] - 18s 23ms/step - loss: 0.0071 - accuracy: 0.9975 - val_loss: 1.1463 - val_accuracy: 0.7982\n",
            "Epoch 27/50\n",
            "782/782 [==============================] - 18s 22ms/step - loss: 0.0056 - accuracy: 0.9982 - val_loss: 1.2606 - val_accuracy: 0.7824\n",
            "Epoch 28/50\n",
            "782/782 [==============================] - 18s 22ms/step - loss: 0.0080 - accuracy: 0.9973 - val_loss: 1.2142 - val_accuracy: 0.7953\n",
            "Epoch 29/50\n",
            "782/782 [==============================] - 18s 23ms/step - loss: 0.0083 - accuracy: 0.9974 - val_loss: 1.2270 - val_accuracy: 0.8027\n",
            "Epoch 30/50\n",
            "782/782 [==============================] - 18s 23ms/step - loss: 0.0085 - accuracy: 0.9974 - val_loss: 1.2141 - val_accuracy: 0.8026\n",
            "Epoch 31/50\n",
            "782/782 [==============================] - 18s 23ms/step - loss: 0.0072 - accuracy: 0.9976 - val_loss: 1.2440 - val_accuracy: 0.7993\n",
            "Epoch 32/50\n",
            "782/782 [==============================] - 18s 23ms/step - loss: 0.0066 - accuracy: 0.9983 - val_loss: 1.1837 - val_accuracy: 0.7982\n",
            "Epoch 33/50\n",
            "782/782 [==============================] - 18s 22ms/step - loss: 0.0056 - accuracy: 0.9982 - val_loss: 1.3606 - val_accuracy: 0.8010\n",
            "Epoch 34/50\n",
            "782/782 [==============================] - 18s 22ms/step - loss: 0.0068 - accuracy: 0.9980 - val_loss: 1.2365 - val_accuracy: 0.8008\n",
            "Epoch 35/50\n",
            "782/782 [==============================] - 18s 23ms/step - loss: 0.0033 - accuracy: 0.9989 - val_loss: 1.3737 - val_accuracy: 0.7900\n",
            "Epoch 36/50\n",
            "782/782 [==============================] - 18s 23ms/step - loss: 0.0039 - accuracy: 0.9988 - val_loss: 1.3575 - val_accuracy: 0.8005\n",
            "Epoch 37/50\n",
            "782/782 [==============================] - 18s 23ms/step - loss: 0.0102 - accuracy: 0.9970 - val_loss: 1.3694 - val_accuracy: 0.7979\n",
            "Epoch 38/50\n",
            "782/782 [==============================] - 18s 23ms/step - loss: 0.0166 - accuracy: 0.9943 - val_loss: 1.1271 - val_accuracy: 0.7940\n",
            "Epoch 39/50\n",
            "782/782 [==============================] - 18s 22ms/step - loss: 0.0032 - accuracy: 0.9989 - val_loss: 1.2470 - val_accuracy: 0.7994\n",
            "Epoch 40/50\n",
            "782/782 [==============================] - 18s 23ms/step - loss: 7.2800e-04 - accuracy: 0.9999 - val_loss: 1.3555 - val_accuracy: 0.8001\n",
            "Epoch 41/50\n",
            "782/782 [==============================] - 18s 23ms/step - loss: 9.0745e-05 - accuracy: 1.0000 - val_loss: 1.4678 - val_accuracy: 0.8002\n",
            "Epoch 42/50\n",
            "782/782 [==============================] - 18s 23ms/step - loss: 4.4397e-05 - accuracy: 1.0000 - val_loss: 1.5478 - val_accuracy: 0.8045\n",
            "Epoch 43/50\n",
            "782/782 [==============================] - 18s 23ms/step - loss: 2.5378e-05 - accuracy: 1.0000 - val_loss: 1.6231 - val_accuracy: 0.8046\n",
            "Epoch 44/50\n",
            "782/782 [==============================] - 18s 23ms/step - loss: 1.5857e-05 - accuracy: 1.0000 - val_loss: 1.6962 - val_accuracy: 0.8050\n",
            "Epoch 45/50\n",
            "782/782 [==============================] - 18s 22ms/step - loss: 1.0045e-05 - accuracy: 1.0000 - val_loss: 1.7660 - val_accuracy: 0.8051\n",
            "Epoch 46/50\n",
            "782/782 [==============================] - 18s 23ms/step - loss: 6.3831e-06 - accuracy: 1.0000 - val_loss: 1.8362 - val_accuracy: 0.8064\n",
            "Epoch 47/50\n",
            "782/782 [==============================] - 18s 23ms/step - loss: 4.0664e-06 - accuracy: 1.0000 - val_loss: 1.9101 - val_accuracy: 0.8063\n",
            "Epoch 48/50\n",
            "782/782 [==============================] - 18s 23ms/step - loss: 2.5818e-06 - accuracy: 1.0000 - val_loss: 1.9857 - val_accuracy: 0.8062\n",
            "Epoch 49/50\n",
            "782/782 [==============================] - 19s 24ms/step - loss: 1.6538e-06 - accuracy: 1.0000 - val_loss: 2.0576 - val_accuracy: 0.8062\n",
            "Epoch 50/50\n",
            "782/782 [==============================] - 18s 23ms/step - loss: 1.0545e-06 - accuracy: 1.0000 - val_loss: 2.1305 - val_accuracy: 0.8063\n"
          ],
          "name": "stdout"
        }
      ]
    },
    {
      "cell_type": "code",
      "metadata": {
        "colab": {
          "base_uri": "https://localhost:8080/",
          "height": 279
        },
        "id": "onUy-_1I_Iu2",
        "outputId": "bf51722a-86c8-49a9-ca63-8d12e9e1be06"
      },
      "source": [
        "plot_graphs(history2, 'accuracy')"
      ],
      "execution_count": 15,
      "outputs": [
        {
          "output_type": "display_data",
          "data": {
            "image/png": "[encoded data removed]",
            "text/plain": [
              "<Figure size 432x288 with 1 Axes>"
            ]
          },
          "metadata": {
            "tags": [],
            "needs_background": "light"
          }
        }
      ]
    },
    {
      "cell_type": "code",
      "metadata": {
        "colab": {
          "base_uri": "https://localhost:8080/",
          "height": 279
        },
        "id": "cSvkmGYG_LKW",
        "outputId": "9b92737d-a019-4363-9ef2-da8ec8e5cd28"
      },
      "source": [
        "plot_graphs(history2, 'loss')"
      ],
      "execution_count": 16,
      "outputs": [
        {
          "output_type": "display_data",
          "data": {
            "image/png": "[encoded data removed]",
            "text/plain": [
              "<Figure size 432x288 with 1 Axes>"
            ]
          },
          "metadata": {
            "tags": [],
            "needs_background": "light"
          }
        }
      ]
    },
    {
      "cell_type": "markdown",
      "metadata": {
        "id": "UmI8Nkgf_xY7"
      },
      "source": [
        "# Using Conv1D\n",
        "\n",
        "Another type of layer that you can use is a convolution, in a very similar way to what you did with images. The code to use a convolution on network is here. It's very similar to what you had before. You specify the number of convolutions that you want to learn, their size, and their activation function. We have 128 filters each for 5 words. The effect of this will then be the same. Now words will be grouped into the size of the filter in this case 5. And convolutions will learned that can map the word classification to the desired output."
      ]
    },
    {
      "cell_type": "code",
      "metadata": {
        "id": "K_Jc7cY3Qxke"
      },
      "source": [
        "# Model Definition with Conv1D\n",
        "model3 = tf.keras.Sequential([\n",
        "    tf.keras.layers.Embedding(vocab_size, embedding_dim, input_length=max_length),\n",
        "    tf.keras.layers.Conv1D(128, 5, activation='relu'),\n",
        "    tf.keras.layers.GlobalAveragePooling1D(),\n",
        "    tf.keras.layers.Dense(6, activation='relu'),\n",
        "    tf.keras.layers.Dense(1, activation='sigmoid')\n",
        "])\n",
        "model3.compile(loss='binary_crossentropy',optimizer='adam',metrics=['accuracy'])"
      ],
      "execution_count": 19,
      "outputs": []
    },
    {
      "cell_type": "markdown",
      "metadata": {
        "id": "KBXIjyesBY0o"
      },
      "source": [
        "If we go back to the model and explore the parameters, we'll see that we have 128 filters each for 5 words. And an exploration of the model will show these dimensions. As the size of the input was 120 words, and a filter that is 5 words long will shave off 2 words from the front and back, leaving us with 116. The 128 filters that we specified will show up here as part of the convolutional layer."
      ]
    },
    {
      "cell_type": "code",
      "metadata": {
        "colab": {
          "base_uri": "https://localhost:8080/"
        },
        "id": "EjOjogwLBcjJ",
        "outputId": "b96d5248-db87-473a-b80f-a16bde3a83e8"
      },
      "source": [
        "model3.summary()"
      ],
      "execution_count": 20,
      "outputs": [
        {
          "output_type": "stream",
          "text": [
            "Model: \"sequential_3\"\n",
            "_________________________________________________________________\n",
            "Layer (type)                 Output Shape              Param #   \n",
            "=================================================================\n",
            "embedding_3 (Embedding)      (None, 120, 16)           160000    \n",
            "_________________________________________________________________\n",
            "conv1d_1 (Conv1D)            (None, 116, 128)          10368     \n",
            "_________________________________________________________________\n",
            "global_average_pooling1d_1 ( (None, 128)               0         \n",
            "_________________________________________________________________\n",
            "dense_6 (Dense)              (None, 6)                 774       \n",
            "_________________________________________________________________\n",
            "dense_7 (Dense)              (None, 1)                 7         \n",
            "=================================================================\n",
            "Total params: 171,149\n",
            "Trainable params: 171,149\n",
            "Non-trainable params: 0\n",
            "_________________________________________________________________\n"
          ],
          "name": "stdout"
        }
      ]
    },
    {
      "cell_type": "code",
      "metadata": {
        "colab": {
          "base_uri": "https://localhost:8080/"
        },
        "id": "fAhS8f2d_T6i",
        "outputId": "86a6dbdc-1182-47c6-b9a6-2ce5ce3d3858"
      },
      "source": [
        "num_epochs = 50\n",
        "history3 = model3.fit(padded, training_labels_final, epochs=num_epochs, validation_data=(testing_padded, testing_labels_final))"
      ],
      "execution_count": 21,
      "outputs": [
        {
          "output_type": "stream",
          "text": [
            "Epoch 1/50\n",
            "782/782 [==============================] - 7s 9ms/step - loss: 0.4688 - accuracy: 0.7547 - val_loss: 0.3493 - val_accuracy: 0.8478\n",
            "Epoch 2/50\n",
            "782/782 [==============================] - 7s 9ms/step - loss: 0.2874 - accuracy: 0.8803 - val_loss: 0.3545 - val_accuracy: 0.8457\n",
            "Epoch 3/50\n",
            "782/782 [==============================] - 7s 9ms/step - loss: 0.2353 - accuracy: 0.9071 - val_loss: 0.3773 - val_accuracy: 0.8401\n",
            "Epoch 4/50\n",
            "782/782 [==============================] - 7s 9ms/step - loss: 0.1977 - accuracy: 0.9255 - val_loss: 0.4132 - val_accuracy: 0.8338\n",
            "Epoch 5/50\n",
            "782/782 [==============================] - 7s 9ms/step - loss: 0.1701 - accuracy: 0.9369 - val_loss: 0.4502 - val_accuracy: 0.8272\n",
            "Epoch 6/50\n",
            "782/782 [==============================] - 7s 9ms/step - loss: 0.1411 - accuracy: 0.9513 - val_loss: 0.4953 - val_accuracy: 0.8225\n",
            "Epoch 7/50\n",
            "782/782 [==============================] - 7s 9ms/step - loss: 0.1178 - accuracy: 0.9604 - val_loss: 0.5505 - val_accuracy: 0.8164\n",
            "Epoch 8/50\n",
            "782/782 [==============================] - 7s 9ms/step - loss: 0.0968 - accuracy: 0.9696 - val_loss: 0.6315 - val_accuracy: 0.8092\n",
            "Epoch 9/50\n",
            "782/782 [==============================] - 7s 9ms/step - loss: 0.0762 - accuracy: 0.9784 - val_loss: 0.6924 - val_accuracy: 0.8063\n",
            "Epoch 10/50\n",
            "782/782 [==============================] - 7s 9ms/step - loss: 0.0629 - accuracy: 0.9829 - val_loss: 0.7981 - val_accuracy: 0.8074\n",
            "Epoch 11/50\n",
            "782/782 [==============================] - 7s 9ms/step - loss: 0.0496 - accuracy: 0.9878 - val_loss: 0.8580 - val_accuracy: 0.8046\n",
            "Epoch 12/50\n",
            "782/782 [==============================] - 7s 9ms/step - loss: 0.0380 - accuracy: 0.9906 - val_loss: 0.9467 - val_accuracy: 0.8043\n",
            "Epoch 13/50\n",
            "782/782 [==============================] - 7s 9ms/step - loss: 0.0327 - accuracy: 0.9911 - val_loss: 1.0760 - val_accuracy: 0.7981\n",
            "Epoch 14/50\n",
            "782/782 [==============================] - 7s 9ms/step - loss: 0.0222 - accuracy: 0.9948 - val_loss: 1.2367 - val_accuracy: 0.8002\n",
            "Epoch 15/50\n",
            "782/782 [==============================] - 7s 9ms/step - loss: 0.0196 - accuracy: 0.9939 - val_loss: 1.3361 - val_accuracy: 0.7991\n",
            "Epoch 16/50\n",
            "782/782 [==============================] - 7s 9ms/step - loss: 0.0165 - accuracy: 0.9955 - val_loss: 1.4705 - val_accuracy: 0.7991\n",
            "Epoch 17/50\n",
            "782/782 [==============================] - 7s 9ms/step - loss: 0.0147 - accuracy: 0.9953 - val_loss: 1.5822 - val_accuracy: 0.7978\n",
            "Epoch 18/50\n",
            "782/782 [==============================] - 7s 9ms/step - loss: 0.0100 - accuracy: 0.9971 - val_loss: 1.6075 - val_accuracy: 0.7949\n",
            "Epoch 19/50\n",
            "782/782 [==============================] - 7s 9ms/step - loss: 0.0078 - accuracy: 0.9981 - val_loss: 1.6930 - val_accuracy: 0.7994\n",
            "Epoch 20/50\n",
            "782/782 [==============================] - 7s 9ms/step - loss: 0.0085 - accuracy: 0.9972 - val_loss: 1.8303 - val_accuracy: 0.7967\n",
            "Epoch 21/50\n",
            "782/782 [==============================] - 7s 9ms/step - loss: 0.0125 - accuracy: 0.9956 - val_loss: 1.8554 - val_accuracy: 0.7990\n",
            "Epoch 22/50\n",
            "782/782 [==============================] - 7s 9ms/step - loss: 0.0131 - accuracy: 0.9953 - val_loss: 1.8021 - val_accuracy: 0.7958\n",
            "Epoch 23/50\n",
            "782/782 [==============================] - 7s 9ms/step - loss: 0.0068 - accuracy: 0.9978 - val_loss: 1.9988 - val_accuracy: 0.7964\n",
            "Epoch 24/50\n",
            "782/782 [==============================] - 7s 9ms/step - loss: 0.0026 - accuracy: 0.9994 - val_loss: 2.0488 - val_accuracy: 0.7954\n",
            "Epoch 25/50\n",
            "782/782 [==============================] - 7s 9ms/step - loss: 0.0011 - accuracy: 0.9999 - val_loss: 2.0957 - val_accuracy: 0.7965\n",
            "Epoch 26/50\n",
            "782/782 [==============================] - 7s 9ms/step - loss: 5.5659e-04 - accuracy: 1.0000 - val_loss: 2.2128 - val_accuracy: 0.7974\n",
            "Epoch 27/50\n",
            "782/782 [==============================] - 7s 9ms/step - loss: 1.3965e-04 - accuracy: 1.0000 - val_loss: 2.3023 - val_accuracy: 0.7973\n",
            "Epoch 28/50\n",
            "782/782 [==============================] - 7s 9ms/step - loss: 7.8451e-05 - accuracy: 1.0000 - val_loss: 2.3835 - val_accuracy: 0.7975\n",
            "Epoch 29/50\n",
            "782/782 [==============================] - 7s 9ms/step - loss: 5.2144e-05 - accuracy: 1.0000 - val_loss: 2.4624 - val_accuracy: 0.7976\n",
            "Epoch 30/50\n",
            "782/782 [==============================] - 7s 9ms/step - loss: 3.6231e-05 - accuracy: 1.0000 - val_loss: 2.5465 - val_accuracy: 0.7980\n",
            "Epoch 31/50\n",
            "782/782 [==============================] - 7s 9ms/step - loss: 2.5243e-05 - accuracy: 1.0000 - val_loss: 2.6349 - val_accuracy: 0.7982\n",
            "Epoch 32/50\n",
            "782/782 [==============================] - 7s 9ms/step - loss: 1.7393e-05 - accuracy: 1.0000 - val_loss: 2.7265 - val_accuracy: 0.7976\n",
            "Epoch 33/50\n",
            "782/782 [==============================] - 7s 9ms/step - loss: 1.1745e-05 - accuracy: 1.0000 - val_loss: 2.8209 - val_accuracy: 0.7980\n",
            "Epoch 34/50\n",
            "782/782 [==============================] - 7s 9ms/step - loss: 7.8141e-06 - accuracy: 1.0000 - val_loss: 2.9134 - val_accuracy: 0.7979\n",
            "Epoch 35/50\n",
            "782/782 [==============================] - 7s 9ms/step - loss: 5.1916e-06 - accuracy: 1.0000 - val_loss: 3.0129 - val_accuracy: 0.7978\n",
            "Epoch 36/50\n",
            "782/782 [==============================] - 7s 9ms/step - loss: 3.5043e-06 - accuracy: 1.0000 - val_loss: 3.1124 - val_accuracy: 0.7980\n",
            "Epoch 37/50\n",
            "782/782 [==============================] - 7s 9ms/step - loss: 2.3404e-06 - accuracy: 1.0000 - val_loss: 3.2164 - val_accuracy: 0.7976\n",
            "Epoch 38/50\n",
            "782/782 [==============================] - 7s 9ms/step - loss: 1.5333e-06 - accuracy: 1.0000 - val_loss: 3.3213 - val_accuracy: 0.7981\n",
            "Epoch 39/50\n",
            "782/782 [==============================] - 8s 10ms/step - loss: 9.9758e-07 - accuracy: 1.0000 - val_loss: 3.4197 - val_accuracy: 0.7986\n",
            "Epoch 40/50\n",
            "782/782 [==============================] - 7s 9ms/step - loss: 6.7300e-07 - accuracy: 1.0000 - val_loss: 3.5249 - val_accuracy: 0.7983\n",
            "Epoch 41/50\n",
            "782/782 [==============================] - 7s 9ms/step - loss: 4.3648e-07 - accuracy: 1.0000 - val_loss: 3.6281 - val_accuracy: 0.7979\n",
            "Epoch 42/50\n",
            "782/782 [==============================] - 7s 9ms/step - loss: 2.9745e-07 - accuracy: 1.0000 - val_loss: 3.7248 - val_accuracy: 0.7982\n",
            "Epoch 43/50\n",
            "782/782 [==============================] - 7s 9ms/step - loss: 1.9603e-07 - accuracy: 1.0000 - val_loss: 3.8259 - val_accuracy: 0.7978\n",
            "Epoch 44/50\n",
            "782/782 [==============================] - 7s 9ms/step - loss: 1.3475e-07 - accuracy: 1.0000 - val_loss: 3.9252 - val_accuracy: 0.7979\n",
            "Epoch 45/50\n",
            "782/782 [==============================] - 7s 9ms/step - loss: 8.9470e-08 - accuracy: 1.0000 - val_loss: 4.0217 - val_accuracy: 0.7980\n",
            "Epoch 46/50\n",
            "782/782 [==============================] - 7s 9ms/step - loss: 6.1773e-08 - accuracy: 1.0000 - val_loss: 4.1150 - val_accuracy: 0.7978\n",
            "Epoch 47/50\n",
            "782/782 [==============================] - 7s 9ms/step - loss: 4.3143e-08 - accuracy: 1.0000 - val_loss: 4.2149 - val_accuracy: 0.7978\n",
            "Epoch 48/50\n",
            "782/782 [==============================] - 7s 9ms/step - loss: 2.9768e-08 - accuracy: 1.0000 - val_loss: 4.3048 - val_accuracy: 0.7977\n",
            "Epoch 49/50\n",
            "782/782 [==============================] - 7s 9ms/step - loss: 2.0551e-08 - accuracy: 1.0000 - val_loss: 4.3968 - val_accuracy: 0.7983\n",
            "Epoch 50/50\n",
            "782/782 [==============================] - 7s 9ms/step - loss: 1.4652e-08 - accuracy: 1.0000 - val_loss: 4.4901 - val_accuracy: 0.7979\n"
          ],
          "name": "stdout"
        }
      ]
    },
    {
      "cell_type": "code",
      "metadata": {
        "colab": {
          "base_uri": "https://localhost:8080/",
          "height": 279
        },
        "id": "9iy0vOEo_XBI",
        "outputId": "5553dcf3-835b-493e-c29a-9c61ffbf03a8"
      },
      "source": [
        "plot_graphs(history3, 'accuracy')"
      ],
      "execution_count": 22,
      "outputs": [
        {
          "output_type": "display_data",
          "data": {
            "image/png": "[encoded data removed]",
            "text/plain": [
              "<Figure size 432x288 with 1 Axes>"
            ]
          },
          "metadata": {
            "tags": [],
            "needs_background": "light"
          }
        }
      ]
    },
    {
      "cell_type": "code",
      "metadata": {
        "colab": {
          "base_uri": "https://localhost:8080/",
          "height": 279
        },
        "id": "HxZc3iSw_Zem",
        "outputId": "f58e9059-0254-4de7-d5b5-ca5617d3bdb9"
      },
      "source": [
        "plot_graphs(history3, 'loss')"
      ],
      "execution_count": 23,
      "outputs": [
        {
          "output_type": "display_data",
          "data": {
            "image/png": "[encoded data removed]",
            "text/plain": [
              "<Figure size 432x288 with 1 Axes>"
            ]
          },
          "metadata": {
            "tags": [],
            "needs_background": "light"
          }
        }
      ]
    },
    {
      "cell_type": "markdown",
      "metadata": {
        "id": "aX2X1M4-Bk_i"
      },
      "source": [
        "Saving the built models"
      ]
    },
    {
      "cell_type": "code",
      "metadata": {
        "id": "92qj1uLrBmTb"
      },
      "source": [
        "model1.save(\"test1.h5\")"
      ],
      "execution_count": 24,
      "outputs": []
    },
    {
      "cell_type": "code",
      "metadata": {
        "id": "nQ2irw7FB65x"
      },
      "source": [
        "model2.save(\"test2.h5\")"
      ],
      "execution_count": 25,
      "outputs": []
    },
    {
      "cell_type": "code",
      "metadata": {
        "id": "MX0nQHEmB8DU"
      },
      "source": [
        "model3.save(\"test3.h5\")"
      ],
      "execution_count": 26,
      "outputs": []
    },
    {
      "cell_type": "markdown",
      "metadata": {
        "id": "MeDWqlm5CCNK"
      },
      "source": [
        "Remember that with text, you'll probably get a bit more overfitting than you would have done with images. Not least because you'll almost always have out of vocabulary words in the validation data set. That is words in the validation dataset that weren't present in the training, naturally leading to overfitting. These words can't be classified and, of course, you're going to have these overfitting issues, but see what you can do to avoid them."
      ]
    },
    {
      "cell_type": "code",
      "metadata": {
        "id": "oVKMamDSCCx-"
      },
      "source": [
        ""
      ],
      "execution_count": null,
      "outputs": []
    }
  ]
}