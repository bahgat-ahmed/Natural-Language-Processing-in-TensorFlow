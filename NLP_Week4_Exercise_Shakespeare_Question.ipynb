{
  "nbformat": 4,
  "nbformat_minor": 0,
  "metadata": {
    "colab": {
      "name": "NLP_Week4_Exercise_Shakespeare_Question.ipynb",
      "provenance": [],
      "collapsed_sections": [],
      "toc_visible": true,
      "include_colab_link": true
    },
    "kernelspec": {
      "display_name": "Python 3",
      "name": "python3"
    },
    "accelerator": "GPU"
  },
  "cells": [
    {
      "cell_type": "markdown",
      "metadata": {
        "id": "view-in-github",
        "colab_type": "text"
      },
      "source": [
        "<a href=\"https://colab.research.google.com/github/bahgat-ahmed/Natural-Language-Processing-in-TensorFlow/blob/main/NLP_Week4_Exercise_Shakespeare_Question.ipynb\" target=\"_parent\"><img src=\"https://colab.research.google.com/assets/colab-badge.svg\" alt=\"Open In Colab\"/></a>"
      ]
    },
    {
      "cell_type": "code",
      "metadata": {
        "id": "zX4Kg8DUTKWO"
      },
      "source": [
        "#@title Licensed under the Apache License, Version 2.0 (the \"License\");\n",
        "# you may not use this file except in compliance with the License.\n",
        "# You may obtain a copy of the License at\n",
        "#\n",
        "# https://www.apache.org/licenses/LICENSE-2.0\n",
        "#\n",
        "# Unless required by applicable law or agreed to in writing, software\n",
        "# distributed under the License is distributed on an \"AS IS\" BASIS,\n",
        "# WITHOUT WARRANTIES OR CONDITIONS OF ANY KIND, either express or implied.\n",
        "# See the License for the specific language governing permissions and\n",
        "# limitations under the License."
      ],
      "execution_count": 1,
      "outputs": []
    },
    {
      "cell_type": "code",
      "metadata": {
        "id": "BOwsuGQQY9OL"
      },
      "source": [
        "from tensorflow.keras.preprocessing.sequence import pad_sequences\n",
        "from tensorflow.keras.layers import Embedding, LSTM, Dense, Dropout, Bidirectional\n",
        "from tensorflow.keras.preprocessing.text import Tokenizer\n",
        "from tensorflow.keras.models import Sequential\n",
        "from tensorflow.keras.optimizers import Adam\n",
        "### YOUR CODE HERE\n",
        "# Figure out how to import regularizers\n",
        "from tensorflow.keras import regularizers\n",
        "###\n",
        "import tensorflow.keras.utils as ku \n",
        "import numpy as np "
      ],
      "execution_count": 2,
      "outputs": []
    },
    {
      "cell_type": "code",
      "metadata": {
        "id": "PRnDnCW-Z7qv",
        "colab": {
          "base_uri": "https://localhost:8080/"
        },
        "outputId": "f7c23e8c-267b-43af-8d02-2e032af68040"
      },
      "source": [
        "tokenizer = Tokenizer()\n",
        "!wget --no-check-certificate \\\n",
        "    https://storage.googleapis.com/laurencemoroney-blog.appspot.com/sonnets.txt \\\n",
        "    -O /tmp/sonnets.txt\n",
        "data = open('/tmp/sonnets.txt').read()\n",
        "\n",
        "corpus = data.lower().split(\"\\n\")\n",
        "\n",
        "\n",
        "tokenizer.fit_on_texts(corpus)\n",
        "total_words = len(tokenizer.word_index) + 1\n",
        "\n",
        "# create input sequences using list of tokens\n",
        "input_sequences = []\n",
        "for line in corpus:\n",
        "\ttoken_list = tokenizer.texts_to_sequences([line])[0]\n",
        "\tfor i in range(1, len(token_list)):\n",
        "\t\tn_gram_sequence = token_list[:i+1]\n",
        "\t\tinput_sequences.append(n_gram_sequence)\n",
        "\n",
        "\n",
        "# pad sequences \n",
        "max_sequence_len = max([len(x) for x in input_sequences])\n",
        "input_sequences = np.array(pad_sequences(input_sequences, maxlen=max_sequence_len, padding='pre'))\n",
        "\n",
        "# create predictors and label\n",
        "predictors, label = input_sequences[:,:-1],input_sequences[:,-1]\n",
        "# one hot encoding\n",
        "label = ku.to_categorical(label, num_classes=total_words)"
      ],
      "execution_count": 3,
      "outputs": [
        {
          "output_type": "stream",
          "text": [
            "--2020-11-18 18:37:36--  https://storage.googleapis.com/laurencemoroney-blog.appspot.com/sonnets.txt\n",
            "Resolving storage.googleapis.com (storage.googleapis.com)... 172.217.164.176, 172.217.15.112, 172.217.9.208, ...\n",
            "Connecting to storage.googleapis.com (storage.googleapis.com)|172.217.164.176|:443... connected.\n",
            "HTTP request sent, awaiting response... 200 OK\n",
            "Length: 93578 (91K) [text/plain]\n",
            "Saving to: ‘/tmp/sonnets.txt’\n",
            "\n",
            "\r/tmp/sonnets.txt      0%[                    ]       0  --.-KB/s               \r/tmp/sonnets.txt    100%[===================>]  91.38K  --.-KB/s    in 0.001s  \n",
            "\n",
            "2020-11-18 18:37:36 (105 MB/s) - ‘/tmp/sonnets.txt’ saved [93578/93578]\n",
            "\n"
          ],
          "name": "stdout"
        }
      ]
    },
    {
      "cell_type": "code",
      "metadata": {
        "id": "w9vH8Y59ajYL",
        "colab": {
          "base_uri": "https://localhost:8080/"
        },
        "outputId": "54e66267-bf45-4090-a26e-9f800932f7ed"
      },
      "source": [
        "model = Sequential()\n",
        "model.add(Embedding(total_words, 128, input_length=max_sequence_len-1))\n",
        "model.add(Bidirectional(LSTM(128, return_sequences=True)))\n",
        "model.add(Dropout(0.2))\n",
        "model.add(Bidirectional(LSTM(128)))\n",
        "model.add(Dense(total_words/2, activation='relu', kernel_regularizer=regularizers.l2(0.01)))\n",
        "model.add(Dense(total_words, activation='softmax'))\n",
        "# Pick an optimizer\n",
        "model.compile(loss='categorical_crossentropy', optimizer='adam', metrics=['accuracy'])\n",
        "print(model.summary())\n"
      ],
      "execution_count": 4,
      "outputs": [
        {
          "output_type": "stream",
          "text": [
            "Model: \"sequential\"\n",
            "_________________________________________________________________\n",
            "Layer (type)                 Output Shape              Param #   \n",
            "=================================================================\n",
            "embedding (Embedding)        (None, 10, 128)           411008    \n",
            "_________________________________________________________________\n",
            "bidirectional (Bidirectional (None, 10, 256)           263168    \n",
            "_________________________________________________________________\n",
            "dropout (Dropout)            (None, 10, 256)           0         \n",
            "_________________________________________________________________\n",
            "bidirectional_1 (Bidirection (None, 256)               394240    \n",
            "_________________________________________________________________\n",
            "dense (Dense)                (None, 1605)              412485    \n",
            "_________________________________________________________________\n",
            "dense_1 (Dense)              (None, 3211)              5156866   \n",
            "=================================================================\n",
            "Total params: 6,637,767\n",
            "Trainable params: 6,637,767\n",
            "Non-trainable params: 0\n",
            "_________________________________________________________________\n",
            "None\n"
          ],
          "name": "stdout"
        }
      ]
    },
    {
      "cell_type": "code",
      "metadata": {
        "id": "AIg2f1HBxqof",
        "colab": {
          "base_uri": "https://localhost:8080/"
        },
        "outputId": "7714142a-cc1b-4ee6-c6a2-b58f45b75d4a"
      },
      "source": [
        "history = model.fit(predictors, label, epochs=100, verbose=1)"
      ],
      "execution_count": 5,
      "outputs": [
        {
          "output_type": "stream",
          "text": [
            "Epoch 1/100\n",
            "484/484 [==============================] - 7s 14ms/step - loss: 7.0199 - accuracy: 0.0212\n",
            "Epoch 2/100\n",
            "484/484 [==============================] - 7s 14ms/step - loss: 6.5166 - accuracy: 0.0226\n",
            "Epoch 3/100\n",
            "484/484 [==============================] - 7s 14ms/step - loss: 6.4085 - accuracy: 0.0271\n",
            "Epoch 4/100\n",
            "484/484 [==============================] - 7s 14ms/step - loss: 6.2819 - accuracy: 0.0351\n",
            "Epoch 5/100\n",
            "484/484 [==============================] - 7s 14ms/step - loss: 6.1556 - accuracy: 0.0370\n",
            "Epoch 6/100\n",
            "484/484 [==============================] - 7s 14ms/step - loss: 6.0422 - accuracy: 0.0405\n",
            "Epoch 7/100\n",
            "484/484 [==============================] - 7s 14ms/step - loss: 5.9253 - accuracy: 0.0440\n",
            "Epoch 8/100\n",
            "484/484 [==============================] - 7s 15ms/step - loss: 5.8022 - accuracy: 0.0487\n",
            "Epoch 9/100\n",
            "484/484 [==============================] - 7s 14ms/step - loss: 5.6858 - accuracy: 0.0559\n",
            "Epoch 10/100\n",
            "484/484 [==============================] - 7s 14ms/step - loss: 5.5653 - accuracy: 0.0653\n",
            "Epoch 11/100\n",
            "484/484 [==============================] - 7s 15ms/step - loss: 5.4348 - accuracy: 0.0715\n",
            "Epoch 12/100\n",
            "484/484 [==============================] - 7s 14ms/step - loss: 5.3084 - accuracy: 0.0823\n",
            "Epoch 13/100\n",
            "484/484 [==============================] - 7s 14ms/step - loss: 5.1853 - accuracy: 0.0931\n",
            "Epoch 14/100\n",
            "484/484 [==============================] - 7s 14ms/step - loss: 5.0677 - accuracy: 0.0993\n",
            "Epoch 15/100\n",
            "484/484 [==============================] - 7s 14ms/step - loss: 4.9470 - accuracy: 0.1075\n",
            "Epoch 16/100\n",
            "484/484 [==============================] - 7s 15ms/step - loss: 4.8321 - accuracy: 0.1182\n",
            "Epoch 17/100\n",
            "484/484 [==============================] - 7s 15ms/step - loss: 4.7169 - accuracy: 0.1272\n",
            "Epoch 18/100\n",
            "484/484 [==============================] - 7s 15ms/step - loss: 4.5979 - accuracy: 0.1401\n",
            "Epoch 19/100\n",
            "484/484 [==============================] - 7s 14ms/step - loss: 4.4827 - accuracy: 0.1513\n",
            "Epoch 20/100\n",
            "484/484 [==============================] - 7s 14ms/step - loss: 4.3598 - accuracy: 0.1626\n",
            "Epoch 21/100\n",
            "484/484 [==============================] - 7s 14ms/step - loss: 4.2310 - accuracy: 0.1819\n",
            "Epoch 22/100\n",
            "484/484 [==============================] - 7s 14ms/step - loss: 4.1109 - accuracy: 0.1927\n",
            "Epoch 23/100\n",
            "484/484 [==============================] - 7s 14ms/step - loss: 3.9862 - accuracy: 0.2130\n",
            "Epoch 24/100\n",
            "484/484 [==============================] - 7s 14ms/step - loss: 3.8588 - accuracy: 0.2304\n",
            "Epoch 25/100\n",
            "484/484 [==============================] - 7s 14ms/step - loss: 3.7420 - accuracy: 0.2511\n",
            "Epoch 26/100\n",
            "484/484 [==============================] - 7s 14ms/step - loss: 3.6162 - accuracy: 0.2725\n",
            "Epoch 27/100\n",
            "484/484 [==============================] - 7s 14ms/step - loss: 3.4956 - accuracy: 0.2971\n",
            "Epoch 28/100\n",
            "484/484 [==============================] - 7s 14ms/step - loss: 3.3870 - accuracy: 0.3232\n",
            "Epoch 29/100\n",
            "484/484 [==============================] - 7s 15ms/step - loss: 3.2811 - accuracy: 0.3425\n",
            "Epoch 30/100\n",
            "484/484 [==============================] - 7s 14ms/step - loss: 3.1603 - accuracy: 0.3734\n",
            "Epoch 31/100\n",
            "484/484 [==============================] - 7s 14ms/step - loss: 3.0581 - accuracy: 0.3977\n",
            "Epoch 32/100\n",
            "484/484 [==============================] - 7s 14ms/step - loss: 2.9704 - accuracy: 0.4121\n",
            "Epoch 33/100\n",
            "484/484 [==============================] - 7s 14ms/step - loss: 2.8631 - accuracy: 0.4414\n",
            "Epoch 34/100\n",
            "484/484 [==============================] - 7s 14ms/step - loss: 2.7723 - accuracy: 0.4624\n",
            "Epoch 35/100\n",
            "484/484 [==============================] - 7s 14ms/step - loss: 2.6698 - accuracy: 0.4864\n",
            "Epoch 36/100\n",
            "484/484 [==============================] - 7s 14ms/step - loss: 2.6020 - accuracy: 0.5019\n",
            "Epoch 37/100\n",
            "484/484 [==============================] - 7s 14ms/step - loss: 2.5171 - accuracy: 0.5238\n",
            "Epoch 38/100\n",
            "484/484 [==============================] - 7s 15ms/step - loss: 2.4479 - accuracy: 0.5391\n",
            "Epoch 39/100\n",
            "484/484 [==============================] - 7s 14ms/step - loss: 2.3626 - accuracy: 0.5583\n",
            "Epoch 40/100\n",
            "484/484 [==============================] - 7s 14ms/step - loss: 2.3024 - accuracy: 0.5748\n",
            "Epoch 41/100\n",
            "484/484 [==============================] - 7s 14ms/step - loss: 2.2440 - accuracy: 0.5844\n",
            "Epoch 42/100\n",
            "484/484 [==============================] - 7s 14ms/step - loss: 2.1750 - accuracy: 0.6012\n",
            "Epoch 43/100\n",
            "484/484 [==============================] - 7s 14ms/step - loss: 2.1052 - accuracy: 0.6212\n",
            "Epoch 44/100\n",
            "484/484 [==============================] - 7s 14ms/step - loss: 2.0450 - accuracy: 0.6331\n",
            "Epoch 45/100\n",
            "484/484 [==============================] - 7s 14ms/step - loss: 2.0041 - accuracy: 0.6429\n",
            "Epoch 46/100\n",
            "484/484 [==============================] - 7s 14ms/step - loss: 1.9525 - accuracy: 0.6550\n",
            "Epoch 47/100\n",
            "484/484 [==============================] - 7s 14ms/step - loss: 1.9013 - accuracy: 0.6642\n",
            "Epoch 48/100\n",
            "484/484 [==============================] - 7s 14ms/step - loss: 1.8540 - accuracy: 0.6761\n",
            "Epoch 49/100\n",
            "484/484 [==============================] - 7s 14ms/step - loss: 1.8154 - accuracy: 0.6832\n",
            "Epoch 50/100\n",
            "484/484 [==============================] - 7s 14ms/step - loss: 1.7682 - accuracy: 0.6955\n",
            "Epoch 51/100\n",
            "484/484 [==============================] - 7s 15ms/step - loss: 1.7277 - accuracy: 0.7033\n",
            "Epoch 52/100\n",
            "484/484 [==============================] - 7s 14ms/step - loss: 1.6946 - accuracy: 0.7096\n",
            "Epoch 53/100\n",
            "484/484 [==============================] - 7s 14ms/step - loss: 1.6524 - accuracy: 0.7167\n",
            "Epoch 54/100\n",
            "484/484 [==============================] - 7s 14ms/step - loss: 1.6141 - accuracy: 0.7248\n",
            "Epoch 55/100\n",
            "484/484 [==============================] - 7s 14ms/step - loss: 1.5977 - accuracy: 0.7240\n",
            "Epoch 56/100\n",
            "484/484 [==============================] - 7s 14ms/step - loss: 1.5482 - accuracy: 0.7389\n",
            "Epoch 57/100\n",
            "484/484 [==============================] - 7s 14ms/step - loss: 1.5219 - accuracy: 0.7434\n",
            "Epoch 58/100\n",
            "484/484 [==============================] - 7s 14ms/step - loss: 1.5025 - accuracy: 0.7427\n",
            "Epoch 59/100\n",
            "484/484 [==============================] - 7s 14ms/step - loss: 1.4806 - accuracy: 0.7489\n",
            "Epoch 60/100\n",
            "484/484 [==============================] - 7s 15ms/step - loss: 1.4598 - accuracy: 0.7535\n",
            "Epoch 61/100\n",
            "484/484 [==============================] - 7s 15ms/step - loss: 1.4308 - accuracy: 0.7586\n",
            "Epoch 62/100\n",
            "484/484 [==============================] - 7s 15ms/step - loss: 1.3940 - accuracy: 0.7673\n",
            "Epoch 63/100\n",
            "484/484 [==============================] - 7s 14ms/step - loss: 1.3837 - accuracy: 0.7708\n",
            "Epoch 64/100\n",
            "484/484 [==============================] - 7s 14ms/step - loss: 1.3778 - accuracy: 0.7681\n",
            "Epoch 65/100\n",
            "484/484 [==============================] - 7s 14ms/step - loss: 1.3410 - accuracy: 0.7766\n",
            "Epoch 66/100\n",
            "484/484 [==============================] - 7s 14ms/step - loss: 1.3191 - accuracy: 0.7786\n",
            "Epoch 67/100\n",
            "484/484 [==============================] - 7s 14ms/step - loss: 1.3032 - accuracy: 0.7817\n",
            "Epoch 68/100\n",
            "484/484 [==============================] - 7s 14ms/step - loss: 1.2821 - accuracy: 0.7835\n",
            "Epoch 69/100\n",
            "484/484 [==============================] - 7s 14ms/step - loss: 1.2756 - accuracy: 0.7856\n",
            "Epoch 70/100\n",
            "484/484 [==============================] - 7s 14ms/step - loss: 1.2511 - accuracy: 0.7912\n",
            "Epoch 71/100\n",
            "484/484 [==============================] - 7s 14ms/step - loss: 1.2318 - accuracy: 0.7970\n",
            "Epoch 72/100\n",
            "484/484 [==============================] - 7s 14ms/step - loss: 1.2265 - accuracy: 0.7938\n",
            "Epoch 73/100\n",
            "484/484 [==============================] - 7s 14ms/step - loss: 1.2270 - accuracy: 0.7922\n",
            "Epoch 74/100\n",
            "484/484 [==============================] - 7s 14ms/step - loss: 1.2095 - accuracy: 0.7965\n",
            "Epoch 75/100\n",
            "484/484 [==============================] - 7s 14ms/step - loss: 1.2068 - accuracy: 0.7956\n",
            "Epoch 76/100\n",
            "484/484 [==============================] - 7s 14ms/step - loss: 1.1725 - accuracy: 0.8007\n",
            "Epoch 77/100\n",
            "484/484 [==============================] - 7s 14ms/step - loss: 1.1526 - accuracy: 0.8044\n",
            "Epoch 78/100\n",
            "484/484 [==============================] - 7s 14ms/step - loss: 1.1489 - accuracy: 0.8075\n",
            "Epoch 79/100\n",
            "484/484 [==============================] - 7s 14ms/step - loss: 1.1251 - accuracy: 0.8106\n",
            "Epoch 80/100\n",
            "484/484 [==============================] - 7s 14ms/step - loss: 1.1405 - accuracy: 0.8049\n",
            "Epoch 81/100\n",
            "484/484 [==============================] - 7s 14ms/step - loss: 1.1296 - accuracy: 0.8072\n",
            "Epoch 82/100\n",
            "484/484 [==============================] - 7s 14ms/step - loss: 1.1168 - accuracy: 0.8068\n",
            "Epoch 83/100\n",
            "484/484 [==============================] - 7s 14ms/step - loss: 1.0874 - accuracy: 0.8148\n",
            "Epoch 84/100\n",
            "484/484 [==============================] - 7s 15ms/step - loss: 1.0880 - accuracy: 0.8134\n",
            "Epoch 85/100\n",
            "484/484 [==============================] - 7s 14ms/step - loss: 1.0909 - accuracy: 0.8113\n",
            "Epoch 86/100\n",
            "484/484 [==============================] - 7s 15ms/step - loss: 1.0712 - accuracy: 0.8141\n",
            "Epoch 87/100\n",
            "484/484 [==============================] - 7s 14ms/step - loss: 1.0723 - accuracy: 0.8154\n",
            "Epoch 88/100\n",
            "484/484 [==============================] - 7s 14ms/step - loss: 1.0611 - accuracy: 0.8170\n",
            "Epoch 89/100\n",
            "484/484 [==============================] - 7s 15ms/step - loss: 1.0395 - accuracy: 0.8200\n",
            "Epoch 90/100\n",
            "484/484 [==============================] - 7s 14ms/step - loss: 1.0404 - accuracy: 0.8207\n",
            "Epoch 91/100\n",
            "484/484 [==============================] - 7s 14ms/step - loss: 1.0249 - accuracy: 0.8221\n",
            "Epoch 92/100\n",
            "484/484 [==============================] - 7s 14ms/step - loss: 1.0331 - accuracy: 0.8214\n",
            "Epoch 93/100\n",
            "484/484 [==============================] - 7s 14ms/step - loss: 1.0232 - accuracy: 0.8199\n",
            "Epoch 94/100\n",
            "484/484 [==============================] - 7s 15ms/step - loss: 1.0351 - accuracy: 0.8174\n",
            "Epoch 95/100\n",
            "484/484 [==============================] - 7s 14ms/step - loss: 1.0193 - accuracy: 0.8206\n",
            "Epoch 96/100\n",
            "484/484 [==============================] - 7s 14ms/step - loss: 1.0055 - accuracy: 0.8250\n",
            "Epoch 97/100\n",
            "484/484 [==============================] - 7s 14ms/step - loss: 0.9967 - accuracy: 0.8234\n",
            "Epoch 98/100\n",
            "484/484 [==============================] - 7s 14ms/step - loss: 0.9959 - accuracy: 0.8240\n",
            "Epoch 99/100\n",
            "484/484 [==============================] - 7s 14ms/step - loss: 0.9960 - accuracy: 0.8214\n",
            "Epoch 100/100\n",
            "484/484 [==============================] - 7s 14ms/step - loss: 0.9696 - accuracy: 0.8288\n"
          ],
          "name": "stdout"
        }
      ]
    },
    {
      "cell_type": "code",
      "metadata": {
        "id": "1fXTEO3GJ282",
        "colab": {
          "base_uri": "https://localhost:8080/",
          "height": 545
        },
        "outputId": "30a4eefb-f1d1-4556-8b35-be328113efb1"
      },
      "source": [
        "import matplotlib.pyplot as plt\n",
        "acc = history.history['accuracy']\n",
        "loss = history.history['loss']\n",
        "\n",
        "epochs = range(len(acc))\n",
        "\n",
        "plt.plot(epochs, acc, 'b', label='Training accuracy')\n",
        "plt.title('Training accuracy')\n",
        "\n",
        "plt.figure()\n",
        "\n",
        "plt.plot(epochs, loss, 'b', label='Training Loss')\n",
        "plt.title('Training loss')\n",
        "plt.legend()\n",
        "\n",
        "plt.show()"
      ],
      "execution_count": 6,
      "outputs": [
        {
          "output_type": "display_data",
          "data": {
            "image/png": "[encoded data removed]",
            "text/plain": [
              "<Figure size 432x288 with 1 Axes>"
            ]
          },
          "metadata": {
            "tags": [],
            "needs_background": "light"
          }
        },
        {
          "output_type": "display_data",
          "data": {
            "image/png": "[encoded data removed]",
            "text/plain": [
              "<Figure size 432x288 with 1 Axes>"
            ]
          },
          "metadata": {
            "tags": [],
            "needs_background": "light"
          }
        }
      ]
    },
    {
      "cell_type": "code",
      "metadata": {
        "id": "6Vc6PHgxa6Hm",
        "colab": {
          "base_uri": "https://localhost:8080/"
        },
        "outputId": "c5c0e0d7-7e33-4194-8fe8-62fb1d30fce8"
      },
      "source": [
        "seed_text = \"Let us do something now\"\n",
        "next_words = 100\n",
        "  \n",
        "for _ in range(next_words):\n",
        "\ttoken_list = tokenizer.texts_to_sequences([seed_text])[0]\n",
        "\ttoken_list = pad_sequences([token_list], maxlen=max_sequence_len-1, padding='pre')\n",
        "\tpredicted = model.predict_classes(token_list, verbose=0)\n",
        "\toutput_word = \"\"\n",
        "\tfor word, index in tokenizer.word_index.items():\n",
        "\t\tif index == predicted:\n",
        "\t\t\toutput_word = word\n",
        "\t\t\tbreak\n",
        "\tseed_text += \" \" + output_word\n",
        "print(seed_text)"
      ],
      "execution_count": 7,
      "outputs": [
        {
          "output_type": "stream",
          "text": [
            "WARNING:tensorflow:From <ipython-input-7-5ce5446c8977>:7: Sequential.predict_classes (from tensorflow.python.keras.engine.sequential) is deprecated and will be removed after 2021-01-01.\n",
            "Instructions for updating:\n",
            "Please use instead:* `np.argmax(model.predict(x), axis=-1)`,   if your model does multi-class classification   (e.g. if it uses a `softmax` last-layer activation).* `(model.predict(x) > 0.5).astype(\"int32\")`,   if your model does binary classification   (e.g. if it uses a `sigmoid` last-layer activation).\n",
            "Let us do something now the child of twain or rest burn'd dyed new wrong days affords cherish yet prove weeds store so dumb ' unset unset owe directed new common end to prove her remedy ' graced be cold woe ' doth fangled now bear his store yet end bear kill'd exceeds exceeds exceeds o'er rolling new friend should survey her remedy can sit show their state away or ' stell'd stell'd stell'd they hour bear his steel clearer new delight light light torn new bad new in thee new alone should not it thought thy best can truly stay alone had so short\n"
          ],
          "name": "stdout"
        }
      ]
    },
    {
      "cell_type": "code",
      "metadata": {
        "id": "QmLaWWQ2sZhP"
      },
      "source": [
        ""
      ],
      "execution_count": 7,
      "outputs": []
    }
  ]
}