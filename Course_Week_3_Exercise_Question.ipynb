{
  "nbformat": 4,
  "nbformat_minor": 0,
  "metadata": {
    "colab": {
      "name": "Course - Week 3 Exercise Question.ipynb",
      "provenance": [],
      "collapsed_sections": [],
      "toc_visible": true,
      "include_colab_link": true
    },
    "kernelspec": {
      "display_name": "Python 3",
      "name": "python3"
    },
    "accelerator": "GPU"
  },
  "cells": [
    {
      "cell_type": "markdown",
      "metadata": {
        "id": "view-in-github",
        "colab_type": "text"
      },
      "source": [
        "<a href=\"https://colab.research.google.com/github/bahgat-ahmed/Natural-Language-Processing-in-TensorFlow/blob/main/Course_Week_3_Exercise_Question.ipynb\" target=\"_parent\"><img src=\"https://colab.research.google.com/assets/colab-badge.svg\" alt=\"Open In Colab\"/></a>"
      ]
    },
    {
      "cell_type": "code",
      "metadata": {
        "id": "zX4Kg8DUTKWO"
      },
      "source": [
        "#@title Licensed under the Apache License, Version 2.0 (the \"License\");\n",
        "# you may not use this file except in compliance with the License.\n",
        "# You may obtain a copy of the License at\n",
        "#\n",
        "# https://www.apache.org/licenses/LICENSE-2.0\n",
        "#\n",
        "# Unless required by applicable law or agreed to in writing, software\n",
        "# distributed under the License is distributed on an \"AS IS\" BASIS,\n",
        "# WITHOUT WARRANTIES OR CONDITIONS OF ANY KIND, either express or implied.\n",
        "# See the License for the specific language governing permissions and\n",
        "# limitations under the License."
      ],
      "execution_count": 1,
      "outputs": []
    },
    {
      "cell_type": "code",
      "metadata": {
        "id": "hmA6EzkQJ5jt"
      },
      "source": [
        "import json\n",
        "import tensorflow as tf\n",
        "import csv\n",
        "import random\n",
        "import numpy as np\n",
        "\n",
        "from tensorflow.keras.preprocessing.text import Tokenizer\n",
        "from tensorflow.keras.preprocessing.sequence import pad_sequences\n",
        "from tensorflow.keras.utils import to_categorical\n",
        "from tensorflow.keras import regularizers\n",
        "\n",
        "\n",
        "embedding_dim = 100\n",
        "max_length = 16\n",
        "trunc_type='post'\n",
        "padding_type='post'\n",
        "oov_tok = \"<OOV>\"\n",
        "training_size= 160000 #Your dataset size here. Experiment using smaller values (i.e. 16000), but don't forget to train on at least 160000 to see the best effects\n",
        "test_portion=.1\n",
        "\n",
        "corpus = []\n"
      ],
      "execution_count": 2,
      "outputs": []
    },
    {
      "cell_type": "code",
      "metadata": {
        "colab": {
          "base_uri": "https://localhost:8080/"
        },
        "id": "bM0l_dORKqE0",
        "outputId": "7eb282a9-fd0d-48f5-d5a3-4e4f3ae7f294"
      },
      "source": [
        "# Note that I cleaned the Stanford dataset to remove LATIN1 encoding to make it easier for Python CSV reader\n",
        "# You can do that yourself with:\n",
        "# iconv -f LATIN1 -t UTF8 training.1600000.processed.noemoticon.csv -o training_cleaned.csv\n",
        "# I then hosted it on my site to make it easier to use in this notebook\n",
        "\n",
        "!wget --no-check-certificate \\\n",
        "    https://storage.googleapis.com/laurencemoroney-blog.appspot.com/training_cleaned.csv \\\n",
        "    -O /tmp/training_cleaned.csv\n",
        "\n",
        "num_sentences = 0\n",
        "\n",
        "with open(\"/tmp/training_cleaned.csv\") as csvfile:\n",
        "    reader = csv.reader(csvfile, delimiter=',')\n",
        "    for row in reader:\n",
        "      # Your Code here. Create list items where the first item is the text, found in row[5], and the second is the label. Note that the label is a '0' or a '4' in the text. When it's the former, make\n",
        "      # your label to be 0, otherwise 1. Keep a count of the number of sentences in num_sentences\n",
        "        list_item=[]\n",
        "        # YOUR CODE HERE\n",
        "        list_item.append(row[5])\n",
        "        label = row[0]\n",
        "        if label == '0':\n",
        "          label = 0\n",
        "        else:\n",
        "          label = 1  \n",
        "        list_item.append(label)\n",
        "        num_sentences = num_sentences + 1\n",
        "        corpus.append(list_item)\n"
      ],
      "execution_count": 3,
      "outputs": [
        {
          "output_type": "stream",
          "text": [
            "--2020-11-18 08:08:22--  https://storage.googleapis.com/laurencemoroney-blog.appspot.com/training_cleaned.csv\n",
            "Resolving storage.googleapis.com (storage.googleapis.com)... 64.233.188.128, 64.233.189.128, 108.177.97.128, ...\n",
            "Connecting to storage.googleapis.com (storage.googleapis.com)|64.233.188.128|:443... connected.\n",
            "HTTP request sent, awaiting response... 200 OK\n",
            "Length: 238942690 (228M) [application/octet-stream]\n",
            "Saving to: ‘/tmp/training_cleaned.csv’\n",
            "\n",
            "/tmp/training_clean 100%[===================>] 227.87M   125MB/s    in 1.8s    \n",
            "\n",
            "2020-11-18 08:08:25 (125 MB/s) - ‘/tmp/training_cleaned.csv’ saved [238942690/238942690]\n",
            "\n"
          ],
          "name": "stdout"
        }
      ]
    },
    {
      "cell_type": "code",
      "metadata": {
        "colab": {
          "base_uri": "https://localhost:8080/"
        },
        "id": "3kxblBUjEUX-",
        "outputId": "302379bc-4fdd-409b-951d-6cd7d1d54d46"
      },
      "source": [
        "print(num_sentences)\n",
        "print(len(corpus))\n",
        "print(corpus[1])\n",
        "\n",
        "# Expected Output:\n",
        "# 1600000\n",
        "# 1600000\n",
        "# [\"is upset that he can't update his Facebook by texting it... and might cry as a result  School today also. Blah!\", 0]"
      ],
      "execution_count": 4,
      "outputs": [
        {
          "output_type": "stream",
          "text": [
            "1600000\n",
            "1600000\n",
            "[\"is upset that he can't update his Facebook by texting it... and might cry as a result  School today also. Blah!\", 0]\n"
          ],
          "name": "stdout"
        }
      ]
    },
    {
      "cell_type": "code",
      "metadata": {
        "id": "ohOGz24lsNAD"
      },
      "source": [
        "sentences=[]\n",
        "labels=[]\n",
        "random.shuffle(corpus)\n",
        "for x in range(training_size):\n",
        "    sentences.append(corpus[x][0]) \n",
        "    labels.append(corpus[x][1]) \n",
        "\n",
        "tokenizer = Tokenizer(oov_token=oov_tok)\n",
        "tokenizer.fit_on_texts(sentences) \n",
        "\n",
        "word_index = tokenizer.word_index\n",
        "vocab_size=len(word_index)\n",
        "\n",
        "sequences = tokenizer.texts_to_sequences(sentences) \n",
        "padded = pad_sequences(sequences, maxlen=max_length, padding=padding_type, truncating=trunc_type) \n",
        "\n",
        "split = int(test_portion * training_size)\n",
        "\n",
        "test_sequences = padded[:split] \n",
        "training_sequences = padded[split:training_size] \n",
        "test_labels = labels[:split] \n",
        "training_labels = labels[split:training_size] "
      ],
      "execution_count": 5,
      "outputs": []
    },
    {
      "cell_type": "code",
      "metadata": {
        "colab": {
          "base_uri": "https://localhost:8080/"
        },
        "id": "gIrtRem1En3N",
        "outputId": "04ce2177-0bad-45c0-d641-386ad23363e4"
      },
      "source": [
        "print(vocab_size)\n",
        "print(word_index['i'])"
      ],
      "execution_count": 6,
      "outputs": [
        {
          "output_type": "stream",
          "text": [
            "138567\n",
            "2\n"
          ],
          "name": "stdout"
        }
      ]
    },
    {
      "cell_type": "markdown",
      "metadata": {
        "id": "jPjb0gwmU9MW"
      },
      "source": [
        "Loading the GloVe pretrained word embeddings"
      ]
    },
    {
      "cell_type": "code",
      "metadata": {
        "colab": {
          "base_uri": "https://localhost:8080/"
        },
        "id": "C1zdgJkusRh0",
        "outputId": "7d8f9ffe-b0a2-4483-d074-ff844d8f3618"
      },
      "source": [
        "# Note this is the 100 dimension version of GloVe from Stanford\n",
        "# I unzipped and hosted it on my site to make this notebook easier\n",
        "!wget --no-check-certificate \\\n",
        "    https://storage.googleapis.com/laurencemoroney-blog.appspot.com/glove.6B.100d.txt \\\n",
        "    -O /tmp/glove.6B.100d.txt\n",
        "# for storing the word and its corresponding N coefficients (N-dimensional word representation)\n",
        "embeddings_index = {};\n",
        "with open('/tmp/glove.6B.100d.txt') as f:\n",
        "    for line in f:\n",
        "        values = line.split();\n",
        "        word = values[0];\n",
        "        coefs = np.asarray(values[1:], dtype='float32');\n",
        "        embeddings_index[word] = coefs;\n",
        "# the embedding matrix that is based on our vocab\n",
        "embeddings_matrix = np.zeros((vocab_size+1, embedding_dim));\n",
        "for word, i in word_index.items():\n",
        "    # getting the embedding for the word in our corpus from the loaded embeddings\n",
        "    embedding_vector = embeddings_index.get(word);\n",
        "    if embedding_vector is not None:\n",
        "        embeddings_matrix[i] = embedding_vector;"
      ],
      "execution_count": 7,
      "outputs": [
        {
          "output_type": "stream",
          "text": [
            "--2020-11-18 08:08:36--  https://storage.googleapis.com/laurencemoroney-blog.appspot.com/glove.6B.100d.txt\n",
            "Resolving storage.googleapis.com (storage.googleapis.com)... 74.125.204.128, 64.233.189.128, 108.177.97.128, ...\n",
            "Connecting to storage.googleapis.com (storage.googleapis.com)|74.125.204.128|:443... connected.\n",
            "HTTP request sent, awaiting response... 200 OK\n",
            "Length: 347116733 (331M) [text/plain]\n",
            "Saving to: ‘/tmp/glove.6B.100d.txt’\n",
            "\n",
            "/tmp/glove.6B.100d. 100%[===================>] 331.04M  37.8MB/s    in 8.8s    \n",
            "\n",
            "2020-11-18 08:08:45 (37.8 MB/s) - ‘/tmp/glove.6B.100d.txt’ saved [347116733/347116733]\n",
            "\n"
          ],
          "name": "stdout"
        }
      ]
    },
    {
      "cell_type": "code",
      "metadata": {
        "colab": {
          "base_uri": "https://localhost:8080/"
        },
        "id": "71NLk_lpFLNt",
        "outputId": "5fd05fc0-dd89-4b48-c931-50007b827c39"
      },
      "source": [
        "print(len(embeddings_matrix))"
      ],
      "execution_count": 8,
      "outputs": [
        {
          "output_type": "stream",
          "text": [
            "138568\n"
          ],
          "name": "stdout"
        }
      ]
    },
    {
      "cell_type": "code",
      "metadata": {
        "id": "at-H0-vmZx63"
      },
      "source": [
        "test_sequences = np.array(test_sequences)\n",
        "training_sequences = np.array(training_sequences) \n",
        "test_labels = np.array(test_labels)\n",
        "training_labels = np.array(training_labels)"
      ],
      "execution_count": 10,
      "outputs": []
    },
    {
      "cell_type": "code",
      "metadata": {
        "id": "iKKvbuEBOGFz",
        "colab": {
          "base_uri": "https://localhost:8080/"
        },
        "outputId": "77014e69-82f0-4db6-ee6e-debb072cbcf2"
      },
      "source": [
        "model = tf.keras.Sequential([ # we won't finetune the embedding matrix we have loaded (so trainable=False)\n",
        "    tf.keras.layers.Embedding(vocab_size+1, embedding_dim, input_length=max_length, weights=[embeddings_matrix], trainable=False),\n",
        "    # YOUR CODE HERE - experiment with combining different types, such as convolutions and LSTMs\n",
        "    tf.keras.layers.Dropout(0.2), # dropout is a way of regularization to avoid overfitting\n",
        "    tf.keras.layers.Conv1D(64, 5, activation='relu'),\n",
        "    tf.keras.layers.MaxPooling1D(pool_size=4), # for dimensionality reduction which could also help to avoid overfitting\n",
        "    tf.keras.layers.Dropout(0.2), # dropout is a way of regularization to avoid overfitting\n",
        "    tf.keras.layers.Bidirectional(tf.keras.layers.LSTM(64, return_sequences=True)),\n",
        "    tf.keras.layers.Dropout(0.2), # dropout is a way of regularization to avoid overfitting\n",
        "    tf.keras.layers.Bidirectional(tf.keras.layers.LSTM(32)),\n",
        "    tf.keras.layers.Dense(1, activation='sigmoid') # 1 neuron and using sigmoid because we are doing binary classification\n",
        "])\n",
        "# using binary_crossentropy for loss because we are doing binary classification\n",
        "model.compile(loss='binary_crossentropy', optimizer='adam', metrics=['accuracy'])\n",
        "model.summary()\n",
        "\n",
        "num_epochs = 50\n",
        "history = model.fit(training_sequences, training_labels, epochs=num_epochs, validation_data=(test_sequences, test_labels), verbose=2)\n",
        "\n",
        "print(\"Training Complete\")\n"
      ],
      "execution_count": 11,
      "outputs": [
        {
          "output_type": "stream",
          "text": [
            "Model: \"sequential_1\"\n",
            "_________________________________________________________________\n",
            "Layer (type)                 Output Shape              Param #   \n",
            "=================================================================\n",
            "embedding_1 (Embedding)      (None, 16, 100)           13856800  \n",
            "_________________________________________________________________\n",
            "dropout_3 (Dropout)          (None, 16, 100)           0         \n",
            "_________________________________________________________________\n",
            "conv1d_1 (Conv1D)            (None, 12, 64)            32064     \n",
            "_________________________________________________________________\n",
            "max_pooling1d_1 (MaxPooling1 (None, 3, 64)             0         \n",
            "_________________________________________________________________\n",
            "dropout_4 (Dropout)          (None, 3, 64)             0         \n",
            "_________________________________________________________________\n",
            "bidirectional_2 (Bidirection (None, 3, 128)            66048     \n",
            "_________________________________________________________________\n",
            "dropout_5 (Dropout)          (None, 3, 128)            0         \n",
            "_________________________________________________________________\n",
            "bidirectional_3 (Bidirection (None, 64)                41216     \n",
            "_________________________________________________________________\n",
            "dense_1 (Dense)              (None, 1)                 65        \n",
            "=================================================================\n",
            "Total params: 13,996,193\n",
            "Trainable params: 139,393\n",
            "Non-trainable params: 13,856,800\n",
            "_________________________________________________________________\n",
            "Epoch 1/50\n",
            "4500/4500 - 32s - loss: 0.5762 - accuracy: 0.6932 - val_loss: 0.5376 - val_accuracy: 0.7264\n",
            "Epoch 2/50\n",
            "4500/4500 - 31s - loss: 0.5409 - accuracy: 0.7228 - val_loss: 0.5205 - val_accuracy: 0.7369\n",
            "Epoch 3/50\n",
            "4500/4500 - 31s - loss: 0.5293 - accuracy: 0.7300 - val_loss: 0.5130 - val_accuracy: 0.7441\n",
            "Epoch 4/50\n",
            "4500/4500 - 31s - loss: 0.5190 - accuracy: 0.7388 - val_loss: 0.5091 - val_accuracy: 0.7416\n",
            "Epoch 5/50\n",
            "4500/4500 - 31s - loss: 0.5143 - accuracy: 0.7424 - val_loss: 0.5052 - val_accuracy: 0.7504\n",
            "Epoch 6/50\n",
            "4500/4500 - 31s - loss: 0.5090 - accuracy: 0.7451 - val_loss: 0.4975 - val_accuracy: 0.7539\n",
            "Epoch 7/50\n",
            "4500/4500 - 32s - loss: 0.5043 - accuracy: 0.7497 - val_loss: 0.5035 - val_accuracy: 0.7513\n",
            "Epoch 8/50\n",
            "4500/4500 - 31s - loss: 0.5013 - accuracy: 0.7518 - val_loss: 0.5031 - val_accuracy: 0.7500\n",
            "Epoch 9/50\n",
            "4500/4500 - 31s - loss: 0.4980 - accuracy: 0.7535 - val_loss: 0.4983 - val_accuracy: 0.7515\n",
            "Epoch 10/50\n",
            "4500/4500 - 31s - loss: 0.4956 - accuracy: 0.7553 - val_loss: 0.4972 - val_accuracy: 0.7552\n",
            "Epoch 11/50\n",
            "4500/4500 - 31s - loss: 0.4916 - accuracy: 0.7592 - val_loss: 0.4974 - val_accuracy: 0.7563\n",
            "Epoch 12/50\n",
            "4500/4500 - 31s - loss: 0.4910 - accuracy: 0.7585 - val_loss: 0.4939 - val_accuracy: 0.7592\n",
            "Epoch 13/50\n",
            "4500/4500 - 31s - loss: 0.4904 - accuracy: 0.7583 - val_loss: 0.4974 - val_accuracy: 0.7561\n",
            "Epoch 14/50\n",
            "4500/4500 - 31s - loss: 0.4868 - accuracy: 0.7606 - val_loss: 0.4949 - val_accuracy: 0.7562\n",
            "Epoch 15/50\n",
            "4500/4500 - 31s - loss: 0.4874 - accuracy: 0.7615 - val_loss: 0.4938 - val_accuracy: 0.7568\n",
            "Epoch 16/50\n",
            "4500/4500 - 31s - loss: 0.4860 - accuracy: 0.7612 - val_loss: 0.4914 - val_accuracy: 0.7580\n",
            "Epoch 17/50\n",
            "4500/4500 - 32s - loss: 0.4835 - accuracy: 0.7631 - val_loss: 0.4956 - val_accuracy: 0.7566\n",
            "Epoch 18/50\n",
            "4500/4500 - 31s - loss: 0.4836 - accuracy: 0.7628 - val_loss: 0.4944 - val_accuracy: 0.7562\n",
            "Epoch 19/50\n",
            "4500/4500 - 31s - loss: 0.4820 - accuracy: 0.7634 - val_loss: 0.4922 - val_accuracy: 0.7573\n",
            "Epoch 20/50\n",
            "4500/4500 - 31s - loss: 0.4782 - accuracy: 0.7665 - val_loss: 0.4942 - val_accuracy: 0.7551\n",
            "Epoch 21/50\n",
            "4500/4500 - 31s - loss: 0.4802 - accuracy: 0.7641 - val_loss: 0.4918 - val_accuracy: 0.7581\n",
            "Epoch 22/50\n",
            "4500/4500 - 31s - loss: 0.4804 - accuracy: 0.7648 - val_loss: 0.4912 - val_accuracy: 0.7589\n",
            "Epoch 23/50\n",
            "4500/4500 - 31s - loss: 0.4783 - accuracy: 0.7680 - val_loss: 0.4972 - val_accuracy: 0.7564\n",
            "Epoch 24/50\n",
            "4500/4500 - 31s - loss: 0.4789 - accuracy: 0.7665 - val_loss: 0.4936 - val_accuracy: 0.7581\n",
            "Epoch 25/50\n",
            "4500/4500 - 31s - loss: 0.4766 - accuracy: 0.7681 - val_loss: 0.4929 - val_accuracy: 0.7597\n",
            "Epoch 26/50\n",
            "4500/4500 - 31s - loss: 0.4771 - accuracy: 0.7668 - val_loss: 0.4987 - val_accuracy: 0.7571\n",
            "Epoch 27/50\n",
            "4500/4500 - 32s - loss: 0.4759 - accuracy: 0.7681 - val_loss: 0.4922 - val_accuracy: 0.7601\n",
            "Epoch 28/50\n",
            "4500/4500 - 31s - loss: 0.4761 - accuracy: 0.7678 - val_loss: 0.4924 - val_accuracy: 0.7590\n",
            "Epoch 29/50\n",
            "4500/4500 - 31s - loss: 0.4743 - accuracy: 0.7680 - val_loss: 0.4918 - val_accuracy: 0.7594\n",
            "Epoch 30/50\n",
            "4500/4500 - 32s - loss: 0.4735 - accuracy: 0.7698 - val_loss: 0.4922 - val_accuracy: 0.7601\n",
            "Epoch 31/50\n",
            "4500/4500 - 31s - loss: 0.4729 - accuracy: 0.7705 - val_loss: 0.4965 - val_accuracy: 0.7584\n",
            "Epoch 32/50\n",
            "4500/4500 - 31s - loss: 0.4728 - accuracy: 0.7708 - val_loss: 0.4948 - val_accuracy: 0.7578\n",
            "Epoch 33/50\n",
            "4500/4500 - 32s - loss: 0.4731 - accuracy: 0.7698 - val_loss: 0.4965 - val_accuracy: 0.7607\n",
            "Epoch 34/50\n",
            "4500/4500 - 31s - loss: 0.4730 - accuracy: 0.7710 - val_loss: 0.4936 - val_accuracy: 0.7585\n",
            "Epoch 35/50\n",
            "4500/4500 - 31s - loss: 0.4724 - accuracy: 0.7708 - val_loss: 0.4926 - val_accuracy: 0.7615\n",
            "Epoch 36/50\n",
            "4500/4500 - 31s - loss: 0.4718 - accuracy: 0.7716 - val_loss: 0.4926 - val_accuracy: 0.7579\n",
            "Epoch 37/50\n",
            "4500/4500 - 32s - loss: 0.4728 - accuracy: 0.7694 - val_loss: 0.4958 - val_accuracy: 0.7572\n",
            "Epoch 38/50\n",
            "4500/4500 - 32s - loss: 0.4723 - accuracy: 0.7700 - val_loss: 0.4973 - val_accuracy: 0.7592\n",
            "Epoch 39/50\n",
            "4500/4500 - 32s - loss: 0.4699 - accuracy: 0.7731 - val_loss: 0.4923 - val_accuracy: 0.7573\n",
            "Epoch 40/50\n",
            "4500/4500 - 32s - loss: 0.4709 - accuracy: 0.7710 - val_loss: 0.4933 - val_accuracy: 0.7585\n",
            "Epoch 41/50\n",
            "4500/4500 - 31s - loss: 0.4716 - accuracy: 0.7712 - val_loss: 0.4925 - val_accuracy: 0.7602\n",
            "Epoch 42/50\n",
            "4500/4500 - 31s - loss: 0.4686 - accuracy: 0.7742 - val_loss: 0.4915 - val_accuracy: 0.7620\n",
            "Epoch 43/50\n",
            "4500/4500 - 31s - loss: 0.4692 - accuracy: 0.7725 - val_loss: 0.4914 - val_accuracy: 0.7591\n",
            "Epoch 44/50\n",
            "4500/4500 - 31s - loss: 0.4694 - accuracy: 0.7720 - val_loss: 0.4963 - val_accuracy: 0.7584\n",
            "Epoch 45/50\n",
            "4500/4500 - 31s - loss: 0.4695 - accuracy: 0.7730 - val_loss: 0.4893 - val_accuracy: 0.7607\n",
            "Epoch 46/50\n",
            "4500/4500 - 31s - loss: 0.4685 - accuracy: 0.7730 - val_loss: 0.4898 - val_accuracy: 0.7599\n",
            "Epoch 47/50\n",
            "4500/4500 - 32s - loss: 0.4677 - accuracy: 0.7740 - val_loss: 0.4920 - val_accuracy: 0.7606\n",
            "Epoch 48/50\n",
            "4500/4500 - 31s - loss: 0.4691 - accuracy: 0.7715 - val_loss: 0.4907 - val_accuracy: 0.7619\n",
            "Epoch 49/50\n",
            "4500/4500 - 31s - loss: 0.4679 - accuracy: 0.7735 - val_loss: 0.4915 - val_accuracy: 0.7601\n",
            "Epoch 50/50\n",
            "4500/4500 - 31s - loss: 0.4685 - accuracy: 0.7740 - val_loss: 0.4903 - val_accuracy: 0.7601\n",
            "Training Complete\n"
          ],
          "name": "stdout"
        }
      ]
    },
    {
      "cell_type": "code",
      "metadata": {
        "id": "qxju4ItJKO8F",
        "colab": {
          "base_uri": "https://localhost:8080/",
          "height": 607
        },
        "outputId": "79262083-bce5-42de-cc06-65278501100b"
      },
      "source": [
        "import matplotlib.image  as mpimg\n",
        "import matplotlib.pyplot as plt\n",
        "\n",
        "#-----------------------------------------------------------\n",
        "# Retrieve a list of list results on training and test data\n",
        "# sets for each training epoch\n",
        "#-----------------------------------------------------------\n",
        "acc=history.history['accuracy']\n",
        "val_acc=history.history['val_accuracy']\n",
        "loss=history.history['loss']\n",
        "val_loss=history.history['val_loss']\n",
        "\n",
        "epochs=range(len(acc)) # Get number of epochs\n",
        "\n",
        "#------------------------------------------------\n",
        "# Plot training and validation accuracy per epoch\n",
        "#------------------------------------------------\n",
        "plt.plot(epochs, acc, 'r')\n",
        "plt.plot(epochs, val_acc, 'b')\n",
        "plt.title('Training and validation accuracy')\n",
        "plt.xlabel(\"Epochs\")\n",
        "plt.ylabel(\"Accuracy\")\n",
        "plt.legend([\"Accuracy\", \"Validation Accuracy\"])\n",
        "\n",
        "plt.figure()\n",
        "\n",
        "#------------------------------------------------\n",
        "# Plot training and validation loss per epoch\n",
        "#------------------------------------------------\n",
        "plt.plot(epochs, loss, 'r')\n",
        "plt.plot(epochs, val_loss, 'b')\n",
        "plt.title('Training and validation loss')\n",
        "plt.xlabel(\"Epochs\")\n",
        "plt.ylabel(\"Loss\")\n",
        "plt.legend([\"Loss\", \"Validation Loss\"])\n",
        "\n",
        "plt.figure()"
      ],
      "execution_count": 12,
      "outputs": [
        {
          "output_type": "execute_result",
          "data": {
            "text/plain": [
              "<Figure size 432x288 with 0 Axes>"
            ]
          },
          "metadata": {
            "tags": []
          },
          "execution_count": 12
        },
        {
          "output_type": "display_data",
          "data": {
            "image/png": "[encoded data removed]",
            "text/plain": [
              "<Figure size 432x288 with 1 Axes>"
            ]
          },
          "metadata": {
            "tags": [],
            "needs_background": "light"
          }
        },
        {
          "output_type": "display_data",
          "data": {
            "image/png": "[encoded data removed]",
            "text/plain": [
              "<Figure size 432x288 with 1 Axes>"
            ]
          },
          "metadata": {
            "tags": [],
            "needs_background": "light"
          }
        },
        {
          "output_type": "display_data",
          "data": {
            "text/plain": [
              "<Figure size 432x288 with 0 Axes>"
            ]
          },
          "metadata": {
            "tags": []
          }
        }
      ]
    },
    {
      "cell_type": "code",
      "metadata": {
        "id": "56lpEkliaPXi"
      },
      "source": [
        ""
      ],
      "execution_count": null,
      "outputs": []
    }
  ]
}